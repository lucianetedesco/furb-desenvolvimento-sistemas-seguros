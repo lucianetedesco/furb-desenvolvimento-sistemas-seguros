{
 "cells": [
  {
   "cell_type": "markdown",
   "metadata": {},
   "source": [
    "# Senhas\n",
    "\n",
    "#### Alunos: Gabriel Schneider e Luciane Tedesco "
   ]
  },
  {
   "cell_type": "markdown",
   "metadata": {},
   "source": [
    "#### Questão 1\n",
    "\n",
    "* Crie um programa que utilize banco de dados.\n",
    "* Para entrar no programa, será preciso informar usuário e respectiva senha.\n",
    "* O programa deve permitir criar novos usuários.\n",
    "* As senhas dos usuários devem ser armazenadas no banco de dados utilizando-se um algoritmo de resumo e sal."
   ]
  },
  {
   "cell_type": "code",
   "execution_count": 1,
   "metadata": {},
   "outputs": [],
   "source": [
    "import psycopg2\n",
    "\n",
    "# Conectando ao banco de dados\n",
    "connection = psycopg2.connect(user=\"postgres\", password=\"4560\",\n",
    "                              host=\"localhost\", port=\"5432\",\n",
    "                              database = \"postgres\")\n",
    "cursor = connection.cursor()"
   ]
  },
  {
   "cell_type": "code",
   "execution_count": 2,
   "metadata": {},
   "outputs": [],
   "source": [
    "# criando uma tabela \n",
    "cursor.execute(\"\"\"create TABLE usuario (id_usuario serial primary key, \n",
    "                                        nm_usuario varchar(50) not null, \n",
    "                                        senha varchar(500) not null );\"\"\")"
   ]
  },
  {
   "cell_type": "markdown",
   "metadata": {},
   "source": [
    "###### Criar novos usuários:"
   ]
  },
  {
   "cell_type": "code",
   "execution_count": 3,
   "metadata": {},
   "outputs": [],
   "source": [
    "import hashlib\n",
    "\n",
    "def gerar_resumo_sal(senha):\n",
    "    sal = senha[1:2]\n",
    "    string_geracao = senha + sal\n",
    "    \n",
    "    return hashlib.sha256(string_geracao.encode('utf-8')).hexdigest()\n",
    "\n",
    "def criar_novo_usuario(usuario, senha):\n",
    "    resumo_sal = gerar_resumo_sal(senha) \n",
    "    cursor.execute(\"insert into usuario (nm_usuario, senha) values ('{}', '{}');\".format(usuario, resumo_sal))\n",
    "\n",
    "def cadastrar():\n",
    "    novo_usuario = input('Informe o nome do novo usuário: ')\n",
    "    nova_senha = input('Informe a senha para o novo usuário: ')\n",
    "    criar_novo_usuario(novo_usuario, nova_senha)\n",
    "    \n",
    "    print(\"Usuário cadastrado com sucesso\")\n",
    "    "
   ]
  },
  {
   "cell_type": "code",
   "execution_count": 4,
   "metadata": {},
   "outputs": [
    {
     "name": "stdout",
     "output_type": "stream",
     "text": [
      "Informe o nome do novo usuário: Lu\n",
      "Informe a senha para o novo usuário: abc123\n",
      "Usuário cadastrado com sucesso\n"
     ]
    }
   ],
   "source": [
    "cadastrar()"
   ]
  },
  {
   "cell_type": "markdown",
   "metadata": {},
   "source": [
    "###### Logar:"
   ]
  },
  {
   "cell_type": "code",
   "execution_count": 5,
   "metadata": {},
   "outputs": [],
   "source": [
    "def verificar_usuario(usuario, senha):\n",
    "    resumo_sal = gerar_resumo_sal(senha)\n",
    "    cursor.execute(\"select * from usuario where nm_usuario = '{}' and senha = '{}';\".format(usuario, resumo_sal))\n",
    "    return cursor.fetchone()\n",
    "\n",
    "def logar():\n",
    "    usuario = input('Informe o seu usuário: ')\n",
    "    senha = input('Informe a sua senha: ')\n",
    "    \n",
    "    selected_user = verificar_usuario(usuario, senha)\n",
    "    \n",
    "    if selected_user is not None:\n",
    "        print(\"Usuário logado com sucesso\")\n",
    "    else:\n",
    "        print(\"Usuário ou senha inválida\")\n",
    "        "
   ]
  },
  {
   "cell_type": "code",
   "execution_count": 6,
   "metadata": {},
   "outputs": [
    {
     "name": "stdout",
     "output_type": "stream",
     "text": [
      "Informe o seu usuário: Lu\n",
      "Informe a sua senha: abc123\n",
      "Usuário logado com sucesso\n"
     ]
    }
   ],
   "source": [
    "logar()"
   ]
  },
  {
   "cell_type": "code",
   "execution_count": 9,
   "metadata": {},
   "outputs": [
    {
     "name": "stdout",
     "output_type": "stream",
     "text": [
      "Informe o seu usuário: Teste\n",
      "Informe a sua senha: abc\n",
      "Usuário ou senha inválida\n"
     ]
    }
   ],
   "source": [
    "logar()"
   ]
  },
  {
   "cell_type": "markdown",
   "metadata": {},
   "source": [
    "#### Informações e evidências:"
   ]
  },
  {
   "cell_type": "markdown",
   "metadata": {},
   "source": [
    "1. O algoritmo de resumo que foi utilizado para gerar o hash das senhas:"
   ]
  },
  {
   "cell_type": "markdown",
   "metadata": {},
   "source": [
    "Resposta: O algoritmo de resumo utilizado para gerar o hash foi o SHA-256."
   ]
  },
  {
   "cell_type": "markdown",
   "metadata": {},
   "source": [
    "2. Estratégia de seleção do sal:"
   ]
  },
  {
   "cell_type": "markdown",
   "metadata": {},
   "source": [
    "Resposta: O sal é os caracteres das posições 2 e 3 da senha."
   ]
  },
  {
   "cell_type": "markdown",
   "metadata": {},
   "source": [
    "3. Print com tabela de banco de dados com o usuário e respectivo hash:"
   ]
  },
  {
   "cell_type": "code",
   "execution_count": 10,
   "metadata": {},
   "outputs": [
    {
     "name": "stdout",
     "output_type": "stream",
     "text": [
      "(1, 'Lu', 'b627333fda3c57fbef3a714f8144c433688482c29cec07ee6d922eabdfafefbe')\n"
     ]
    }
   ],
   "source": [
    "cursor.execute(\"select * from usuario\")\n",
    "print(cursor.fetchone())"
   ]
  }
 ],
 "metadata": {
  "kernelspec": {
   "display_name": "Python 3",
   "language": "python",
   "name": "python3"
  },
  "language_info": {
   "codemirror_mode": {
    "name": "ipython",
    "version": 3
   },
   "file_extension": ".py",
   "mimetype": "text/x-python",
   "name": "python",
   "nbconvert_exporter": "python",
   "pygments_lexer": "ipython3",
   "version": "3.7.4"
  }
 },
 "nbformat": 4,
 "nbformat_minor": 2
}
