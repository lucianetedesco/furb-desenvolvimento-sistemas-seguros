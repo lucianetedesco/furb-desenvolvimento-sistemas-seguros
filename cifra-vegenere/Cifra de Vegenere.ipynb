{
 "cells": [
  {
   "cell_type": "markdown",
   "metadata": {},
   "source": [
    "# Cifra de Vigenère \n",
    "#### Acadêmicos: Gabriel Schneider de Jesus e Luciane Tedesco"
   ]
  },
  {
   "cell_type": "markdown",
   "metadata": {},
   "source": [
    "Este trabalho visa demonstrar a implementação do algoritmo de cifragem denominado \"Cifra de Vigenère\""
   ]
  },
  {
   "cell_type": "markdown",
   "metadata": {},
   "source": [
    "#### Entradas de texto"
   ]
  },
  {
   "cell_type": "code",
   "execution_count": 1,
   "metadata": {},
   "outputs": [
    {
     "name": "stdout",
     "output_type": "stream",
     "text": [
      "Digite o texto à ser criptografado: TEXTOSIMPLES\n",
      "Texto: TEXTOSIMPLES\n",
      "\n",
      "Digite o chave do algoritmo: ABC\n",
      "Chave: ABC\n"
     ]
    }
   ],
   "source": [
    "from itertools import cycle\n",
    "\n",
    "texto = input(\"Digite o texto à ser criptografado: \")\n",
    "print(\"Texto: \" + texto + \"\\n\")\n",
    "\n",
    "chave = input(\"Digite o chave do algoritmo: \")\n",
    "print(\"Chave: \" + chave)"
   ]
  },
  {
   "cell_type": "markdown",
   "metadata": {},
   "source": [
    "#### Criptografar o texto"
   ]
  },
  {
   "cell_type": "code",
   "execution_count": 2,
   "metadata": {},
   "outputs": [
    {
     "name": "stdout",
     "output_type": "stream",
     "text": [
      "TFZTPUINRLFU\n"
     ]
    }
   ],
   "source": [
    "import re \n",
    "\n",
    "i = 0\n",
    "texto_criptografado = \"\"\n",
    "chave_ciclica = cycle(chave)\n",
    "for k in chave_ciclica:\n",
    "    if i == len(texto):\n",
    "        break\n",
    "     \n",
    "    k = ord(k) - ord('A')  \n",
    "    if ord(texto[i])+k < 91:\n",
    "        texto_criptografado += chr(ord(texto[i])+k)\n",
    "    else:\n",
    "        texto_criptografado += chr(ord(texto[i])+k - 26)\n",
    "        \n",
    "    i = i + 1\n",
    "    \n",
    "print(texto_criptografado)"
   ]
  },
  {
   "cell_type": "markdown",
   "metadata": {},
   "source": [
    "#### Decriptar o texto"
   ]
  },
  {
   "cell_type": "code",
   "execution_count": 3,
   "metadata": {},
   "outputs": [
    {
     "name": "stdout",
     "output_type": "stream",
     "text": [
      "TEXTOSIMPLES\n"
     ]
    }
   ],
   "source": [
    "import re \n",
    "\n",
    "i = 0\n",
    "texto_decriptado = \"\"\n",
    "chave_ciclica = cycle(chave)\n",
    "for k in chave_ciclica:\n",
    "    if i == len(texto_criptografado):\n",
    "        break\n",
    "     \n",
    "    k = ord(k) - ord('A')\n",
    "    if ord(texto_criptografado[i])-k > 64:\n",
    "        texto_decriptado += chr(ord(texto_criptografado[i])-k)\n",
    "    else:\n",
    "        texto_decriptado += chr(ord(texto_criptografado[i])-k + 26)\n",
    "    i = i + 1\n",
    "    \n",
    "print(texto_decriptado)"
   ]
  }
 ],
 "metadata": {
  "kernelspec": {
   "display_name": "Python 3",
   "language": "python",
   "name": "python3"
  },
  "language_info": {
   "codemirror_mode": {
    "name": "ipython",
    "version": 3
   },
   "file_extension": ".py",
   "mimetype": "text/x-python",
   "name": "python",
   "nbconvert_exporter": "python",
   "pygments_lexer": "ipython3",
   "version": "3.7.3"
  }
 },
 "nbformat": 4,
 "nbformat_minor": 2
}
