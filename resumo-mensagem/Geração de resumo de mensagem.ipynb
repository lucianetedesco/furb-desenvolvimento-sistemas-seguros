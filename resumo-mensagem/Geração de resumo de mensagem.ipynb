{
 "cells": [
  {
   "cell_type": "markdown",
   "metadata": {},
   "source": [
    "# Geração de resumo de mensagem\n",
    "\n",
    "#### Alunos: Gabriel Schneider e Luciane Tedesco "
   ]
  },
  {
   "cell_type": "markdown",
   "metadata": {},
   "source": [
    "#### Questão 1\n",
    "\n",
    "- Crie um programa que gere o hash de um arquivo submetido pelo usuário e gere o resultado. Possibilite que o usuário selecione o algoritmo a ser utilizado (entre MD5, SHA-1 e SHA-256)."
   ]
  },
  {
   "cell_type": "code",
   "execution_count": 16,
   "metadata": {},
   "outputs": [],
   "source": [
    "def create_hash(text, mode):\n",
    "    if mode == 'MD5':\n",
    "        return hashlib.md5(text.encode('utf-8')).hexdigest()\n",
    "    elif mode == 'SHA-1':\n",
    "        return hashlib.sha1(text.encode('utf-8')).hexdigest()\n",
    "    elif mode == 'SHA-256':\n",
    "        return hashlib.sha256(text.encode('utf-8')).hexdigest()"
   ]
  },
  {
   "cell_type": "code",
   "execution_count": 18,
   "metadata": {},
   "outputs": [
    {
     "name": "stdout",
     "output_type": "stream",
     "text": [
      "Hash MD5: a83e9e698bbf6c8f7cd4624f3959ff1c\n",
      "Hash SHA-1: bc31ce66bac4d8b52572bb360507069c2847d913\n",
      "Hash SHA-256: dbaeb7f0c07198912b428aae10e949d5926d128ac81c93b05d5b71452a14b9b2\n"
     ]
    }
   ],
   "source": [
    "with open('text.txt', 'r') as file:\n",
    "    text = file.read()\n",
    "    \n",
    "    print('Hash MD5: '     + create_hash(text, 'MD5'))\n",
    "    print('Hash SHA-1: '   + create_hash(text, 'SHA-1'))\n",
    "    print('Hash SHA-256: ' + create_hash(text, 'SHA-256'))"
   ]
  },
  {
   "cell_type": "markdown",
   "metadata": {},
   "source": [
    "#### Questão 2\n",
    "\n",
    "- Crie um programa que valide a integridade de um arquivo. O programa deve possibilitar que o usuário submeta o arquivo a ser validado bem como o valor de hash. O programa deverá informar se o arquivo está integro ou não."
   ]
  },
  {
   "cell_type": "code",
   "execution_count": 19,
   "metadata": {},
   "outputs": [],
   "source": [
    "def check_integrity(text, summary, mode):\n",
    "    created_summary = create_hash(text, mode)\n",
    "    \n",
    "    return created_summary == summary"
   ]
  },
  {
   "cell_type": "code",
   "execution_count": 20,
   "metadata": {},
   "outputs": [
    {
     "name": "stdout",
     "output_type": "stream",
     "text": [
      "O arquivo está integro\n"
     ]
    }
   ],
   "source": [
    "with open('text.txt', 'r') as file:\n",
    "    text = file.read()\n",
    "    summary = 'dbaeb7f0c07198912b428aae10e949d5926d128ac81c93b05d5b71452a14b9b2'\n",
    "    \n",
    "    if check_integrity(text, summary, 'SHA-256'):\n",
    "        print('O arquivo está integro')\n",
    "    else:\n",
    "        print('O arquivo não está integro')"
   ]
  }
 ],
 "metadata": {
  "kernelspec": {
   "display_name": "Python 3",
   "language": "python",
   "name": "python3"
  },
  "language_info": {
   "codemirror_mode": {
    "name": "ipython",
    "version": 3
   },
   "file_extension": ".py",
   "mimetype": "text/x-python",
   "name": "python",
   "nbconvert_exporter": "python",
   "pygments_lexer": "ipython3",
   "version": "3.7.3"
  }
 },
 "nbformat": 4,
 "nbformat_minor": 2
}
