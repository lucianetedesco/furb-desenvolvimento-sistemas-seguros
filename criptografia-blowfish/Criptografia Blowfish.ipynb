{
 "cells": [
  {
   "cell_type": "markdown",
   "metadata": {},
   "source": [
    "# Criptografia Blowfish\n",
    "\n",
    "#### Alunos: Gabriel Schneider de Jesus e Luciane Tedesco\n",
    "\n",
    "Neste projeto, utilizaremos o algoritmo “Blowfish”. Este algoritmo utiliza cifragem de bloco de 64 bits. Para isso, será utilizado o esquema de preenchimento de bloco PKCS#5 para todos os casos descritos e como chave, a sequência de caracteres \"ABCDE\""
   ]
  },
  {
   "cell_type": "code",
   "execution_count": 21,
   "metadata": {},
   "outputs": [],
   "source": [
    "from struct import pack\n",
    "from Crypto.Cipher import Blowfish\n",
    "from Crypto.Util.Padding import pad, unpad\n",
    "\n",
    "key = b'ABCDE'\n",
    "\n",
    "def cifrar(plaintext, cipher):\n",
    "    msg = cipher.encrypt(pad(plaintext, Blowfish.block_size))\n",
    "    return msg\n",
    "\n",
    "def decifrar(ciphertext, cipher):\n",
    "    msg = unpad(cipher.decrypt(ciphertext), Blowfish.block_size)\n",
    "    return msg"
   ]
  },
  {
   "cell_type": "markdown",
   "metadata": {},
   "source": [
    "### Modo ECB"
   ]
  },
  {
   "cell_type": "markdown",
   "metadata": {},
   "source": [
    "\n",
    "#### Caso 1\n",
    "\n",
    "Criptografar o texto “FURB” usando o modo de operação “ECB”\n",
    "- Qual o conteúdo do texto cifrado (em hexadecimal)?\n",
    "- Qual a extensão (quantidade de caracteres) do texto cifrado?\n"
   ]
  },
  {
   "cell_type": "code",
   "execution_count": 22,
   "metadata": {},
   "outputs": [
    {
     "name": "stdout",
     "output_type": "stream",
     "text": [
      "Conteúdo do texto cifrado em hexadecimal: 7f4700aa6f5fe08b\n",
      "Extensão do texto cifrado: 8\n",
      "Possui oito bytes, sendo 4 utilizados para o preenchemento do bloco\n"
     ]
    }
   ],
   "source": [
    "plaintext= b'FURB'\n",
    "cipher = Blowfish.new(key, Blowfish.MODE_ECB)\n",
    "\n",
    "print('Conteúdo do texto cifrado em hexadecimal: ' + str(cifrar(plaintext, cipher).hex()))\n",
    "print('Extensão do texto cifrado: ' + str(len(cifrar(plaintext, cipher))))\n",
    "print(\"Possui oito bytes, sendo 4 utilizados para o preenchemento do bloco\")"
   ]
  },
  {
   "cell_type": "markdown",
   "metadata": {},
   "source": [
    "#### Caso 2\n",
    "\n",
    "Criptografar “COMPUTADOR” usando o modo de operação “ECB”\n",
    "\n",
    "- Qual o conteúdo do texto cifrado (em hexadecimal)? \n",
    "- Qual a extensão do texto cifrado?\n",
    "- Por que o texto cifrado tem tal tamanho?"
   ]
  },
  {
   "cell_type": "code",
   "execution_count": 23,
   "metadata": {},
   "outputs": [
    {
     "name": "stdout",
     "output_type": "stream",
     "text": [
      "Conteúdo do texto cifrado em hexadecimal: f34739ab7634c4efe50ff1b554856572\n",
      "Extensão do texto cifrado: 16\n",
      "Pois contém oito bytes do texto simples mais 6 bytes de preenchemento, sendo formado dois blocos com 8 bytes cada\n"
     ]
    }
   ],
   "source": [
    "plaintext= b'COMPUTADOR'\n",
    "cipher = Blowfish.new(key, Blowfish.MODE_ECB)\n",
    "\n",
    "print('Conteúdo do texto cifrado em hexadecimal: ' + str(cifrar(plaintext, cipher).hex()))\n",
    "print('Extensão do texto cifrado: ' + str(len(cifrar(plaintext, cipher))))\n",
    "print(\"Pois contém oito bytes do texto simples mais 6 bytes de preenchemento, sendo formado dois blocos com 8 bytes cada\")"
   ]
  },
  {
   "cell_type": "markdown",
   "metadata": {},
   "source": [
    "#### Caso 3\n",
    "\n",
    "Criptografe “SABONETE” utilizando o modo de operação “ECB”\n",
    "\n",
    "- Qual o conteúdo do texto cifrado (em hexadecimal)? \n",
    "- Qual a extensão do texto cifrado?\n",
    "- Por que o texto cifrado tem tal tamanho?"
   ]
  },
  {
   "cell_type": "code",
   "execution_count": 24,
   "metadata": {},
   "outputs": [
    {
     "name": "stdout",
     "output_type": "stream",
     "text": [
      "Conteúdo do texto cifrado em hexadecimal: 841091472604b96acdbc3e2fefa73bdd\n",
      "Extensão do texto cifrado: 16\n",
      "Pois contém oito bytes do texto simples mais oito bytes de preenchimento. Estes últimos oito bytes são nescessários pois o último dígito deve sempre guardar a quantidade de bytes que foram completados\n"
     ]
    }
   ],
   "source": [
    "plaintext= b'SABONETE'\n",
    "cipher = Blowfish.new(key, Blowfish.MODE_ECB)\n",
    "\n",
    "print('Conteúdo do texto cifrado em hexadecimal: ' + str(cifrar(plaintext, cipher).hex()))\n",
    "print('Extensão do texto cifrado: ' + str(len(cifrar(plaintext, cipher))))\n",
    "print(\"Pois contém oito bytes do texto simples mais oito bytes de preenchimento. Estes últimos oito bytes são nescessários pois o último dígito deve sempre guardar a quantidade de bytes que foram completados\")"
   ]
  },
  {
   "cell_type": "markdown",
   "metadata": {},
   "source": [
    "#### Caso 4\n",
    "\n",
    "Criptografe “SABONETESABONETESABONETE” utilizando o modo de operação “ECB”\n",
    "\n",
    "- Qual o conteúdo do texto cifrado (em hexadecimal)? \n",
    "- Qual a extensão do texto cifrado?\n",
    "- Avalie o conteúdo do texto cifrado. Que conclusão é possível obter a partir do texto cifrado e do texto simples?"
   ]
  },
  {
   "cell_type": "code",
   "execution_count": 25,
   "metadata": {},
   "outputs": [
    {
     "name": "stdout",
     "output_type": "stream",
     "text": [
      "Conteúdo do texto cifrado em hexadecimal: 841091472604b96a841091472604b96a841091472604b96acdbc3e2fefa73bdd\n",
      "Extensão do texto cifrado: 32\n",
      "Existe a nescessidade de um bloco utilizado apenas para o preenchimento, pois o último dígito deve sempre guardar a quantidade de bytes a serem completados. Como o texto cifrado possui 24 bytes, sendo desta maneira, múltiplo de 8, tornou-se nescessário a alocação de um bloco inteiro.\n"
     ]
    }
   ],
   "source": [
    "plaintext= b'SABONETESABONETESABONETE'\n",
    "cipher = Blowfish.new(key, Blowfish.MODE_ECB)\n",
    "\n",
    "print('Conteúdo do texto cifrado em hexadecimal: ' + str(cifrar(plaintext, cipher).hex()))\n",
    "print('Extensão do texto cifrado: ' + str(len(cifrar(plaintext, cipher))))\n",
    "print(\"Existe a nescessidade de um bloco utilizado apenas para o preenchimento, pois o último dígito deve sempre guardar a quantidade de bytes a serem completados. Como o texto cifrado possui 24 bytes, sendo desta maneira, múltiplo de 8, tornou-se nescessário a alocação de um bloco inteiro.\")"
   ]
  },
  {
   "cell_type": "markdown",
   "metadata": {},
   "source": [
    "#### Caso 9\n",
    "\n",
    "Criptografe o texto “FURB” usando o modo de operação “ECB”. \n",
    "\n",
    "A partir do texto cifrado obtido, tente decifrá-lo utilizando a chave “11111”. Explique o resultado."
   ]
  },
  {
   "cell_type": "code",
   "execution_count": 26,
   "metadata": {},
   "outputs": [
    {
     "name": "stdout",
     "output_type": "stream",
     "text": [
      "Padding is incorrect.\n",
      "Não foi possivel decifrar o texto pois a chave de decifragem é diferente da chave de cifragem\n"
     ]
    }
   ],
   "source": [
    "cipher = Blowfish.new(key, Blowfish.MODE_ECB)\n",
    "texto_cifrado = cipher.encrypt(pad(plaintext, Blowfish.block_size)) \n",
    "\n",
    "try:\n",
    "    cipher_dec = Blowfish.new(b'11111', Blowfish.MODE_ECB)\n",
    "    texto_decifrado = unpad(cipher_dec.decrypt(texto_cifrado), Blowfish.block_size)\n",
    "except Exception as e:\n",
    "    print(e)\n",
    "print(\"Não foi possivel decifrar o texto pois a chave de decifragem é diferente da chave de cifragem\")"
   ]
  },
  {
   "cell_type": "markdown",
   "metadata": {},
   "source": [
    "## Modo CBC\n",
    "\n",
    "#### Caso 5: \n",
    "\n",
    "Criptografe o texto “FURB” e agora utilize o modo de operação “CBC”.\n",
    "\n",
    "- Qual o conteúdo do texto cifrado (em hexadecimal)?\n",
    "- Tente decifrar o texto cifrado, para recuperar o texto simples. O que acontece?"
   ]
  },
  {
   "cell_type": "code",
   "execution_count": 27,
   "metadata": {},
   "outputs": [
    {
     "name": "stdout",
     "output_type": "stream",
     "text": [
      "Conteúdo do texto cifrado em hexadecimal: 2652309a3bb4c575\n",
      "Padding is incorrect.\n",
      "Ocorre um erro, é impossivel decifrar desta maneira\n"
     ]
    }
   ],
   "source": [
    "plaintext= b'FURB'\n",
    "cipher = Blowfish.new(key, Blowfish.MODE_CBC) \n",
    "\n",
    "texto_cifrado = cifrar(plaintext, cipher)\n",
    "print('Conteúdo do texto cifrado em hexadecimal: ' + str(texto_cifrado.hex())) \n",
    "\n",
    "try:\n",
    "    cipher = Blowfish.new(key, Blowfish.MODE_CBC)\n",
    "    texto_decifrado = decifrar(texto_cifrado, cipher)\n",
    "except Exception as e:\n",
    "    print(e)\n",
    "print(\"Ocorre um erro, é impossivel decifrar desta maneira\")"
   ]
  },
  {
   "cell_type": "markdown",
   "metadata": {},
   "source": [
    "#### Caso 6: \n",
    "\n",
    "Criptografe o texto “FURB”, utilizando o modo de operação “CBC”.  Estabeleça que o vetor de inicialização seja constituído dos bytes: 1, 1, 2, 2, 3, 3, 4, 4.\n",
    "\n",
    "- Qual o conteúdo do texto cifrado?"
   ]
  },
  {
   "cell_type": "code",
   "execution_count": 28,
   "metadata": {},
   "outputs": [
    {
     "name": "stdout",
     "output_type": "stream",
     "text": [
      "Conteúdo do texto cifrado em hexadecimal: cf0a75a354fb624c\n"
     ]
    }
   ],
   "source": [
    "plaintext= b'FURB'\n",
    "vetor_inicializacao = [1,1,2,2,3,3,4,4]\n",
    "cipher = Blowfish.new(key, Blowfish.MODE_CBC, bytes(vetor_inicializacao))\n",
    "\n",
    "print('Conteúdo do texto cifrado em hexadecimal: ' + str(cifrar(plaintext, cipher).hex()))"
   ]
  },
  {
   "cell_type": "markdown",
   "metadata": {},
   "source": [
    "#### Caso 7: \n",
    "\n",
    "Criptografe o texto “SABONETESABONETESABONETE” e utilize o modo de operação “CBC”. Defina o vetor de inicialização constituído dos bytes 1, 1, 2, 2, 3, 3, 4, 4.\n",
    "\n",
    "- Qual o conteúdo do texto cifrado (em hexadecimal)?\n",
    "- Compare o texto cifrado com aquele obtido no caso 4 e apresente uma conclusão desta comparação."
   ]
  },
  {
   "cell_type": "code",
   "execution_count": 29,
   "metadata": {},
   "outputs": [
    {
     "name": "stdout",
     "output_type": "stream",
     "text": [
      "Conteúdo do texto cifrado em hexadecimal: 9b1813dacaf2d6509d10c55c33f36b0918d49bf6cd0c1241e1ab6d1d3119eab6\n",
      "Conteúdo do texto cifrado em hexadecimal do caso 4: 841091472604b96a841091472604b96a841091472604b96acdbc3e2fefa73bdd\n",
      "\n",
      "Conteúdo do texto cifrado em hexadecimal: 64\n",
      "O Tamanho foi duplicado\n"
     ]
    }
   ],
   "source": [
    "plaintext= b'SABONETESABONETESABONETE'\n",
    "vetor_inicializacao=[1,1,2,2,3,3,4,4]\n",
    "cipher = Blowfish.new(key, Blowfish.MODE_CBC, bytes(vetor_inicializacao))\n",
    "\n",
    "print('Conteúdo do texto cifrado em hexadecimal: ' + str(cifrar(plaintext, cipher).hex()))\n",
    "print('Conteúdo do texto cifrado em hexadecimal do caso 4: 841091472604b96a841091472604b96a841091472604b96acdbc3e2fefa73bdd')\n",
    "\n",
    "print('\\nConteúdo do texto cifrado em hexadecimal: ' + str(len(cifrar(plaintext, cipher).hex())))\n",
    "print('O Tamanho foi duplicado')"
   ]
  },
  {
   "cell_type": "markdown",
   "metadata": {},
   "source": [
    "#### Caso 8:\n",
    "Criptografe o texto “SABONETESABONETESABONETE” e utilize o modo de operação “CBC”. \n",
    "Defina o vetor de inicialização constituído dos bytes 10,20,30,40,50,60,70,80. \n",
    "\n",
    "- Qual o conteúdo do texto cifrado?\n",
    "- Compare o texto cifrado com o que foi obtido no caso 7 e apresente conclusão sobre a comparação\n",
    "- A partir do resultado do tópico anterior, decriptografe a mensagem usando o vetor de inicialização constituído dos bytes 1, 1, 2, 2, 3, 3, 4, 4.  Qual a conclusão que você atinge?"
   ]
  },
  {
   "cell_type": "code",
   "execution_count": 30,
   "metadata": {},
   "outputs": [
    {
     "name": "stdout",
     "output_type": "stream",
     "text": [
      "Conteúdo do texto cifrado em hexadecimal: b7504dce335d08d7d094d8898ec4d7681e3a53f230ebeef27c388906acdb1b32\n",
      "\n",
      "Conteúdo do texto cifrado em hexadecimal do caso 7: 5e267fae3d5198723c204d864e749680eda90c98ca8acb6452c626e8f4ae0966\n",
      "Tamanho do texto cifrado em hexadecimal: 64\n",
      "O tamanho do vetor de inicialização interfere no tamanho do texto cifrado\n",
      "\n",
      "b'hdnUOJ&!SABONETESABONETE'\n",
      "b'SABONETESABONETESABONETE'\n",
      "O vetor de inicialização deve ser o mesmo que o utilizado para a cifragem, caso contrario ele irá interferir no primeiro bloco, decifrando incorretamente.\n"
     ]
    }
   ],
   "source": [
    "plaintext= b'SABONETESABONETESABONETE'\n",
    "vetor_inicializacao = [10, 20, 30, 40, 50, 60, 70, 80]\n",
    "cipher = Blowfish.new(key, Blowfish.MODE_CBC, bytes(vetor_inicializacao))\n",
    "\n",
    "texto_cifrado = cifrar(plaintext, cipher)\n",
    "print('Conteúdo do texto cifrado em hexadecimal: ' + str(cifrar(plaintext, cipher).hex()))\n",
    "print('\\nConteúdo do texto cifrado em hexadecimal do caso 7: 5e267fae3d5198723c204d864e749680eda90c98ca8acb6452c626e8f4ae0966')\n",
    "print('Tamanho do texto cifrado em hexadecimal: ' + str(len(cifrar(plaintext, cipher).hex())))\n",
    "print('O tamanho do vetor de inicialização interfere no tamanho do texto cifrado\\n')\n",
    "\n",
    "cipher = Blowfish.new(key, Blowfish.MODE_CBC, b\"11223344\") \n",
    "texto_decifrado = decifrar(texto_cifrado, cipher)\n",
    "print(texto_decifrado)\n",
    "\n",
    "cipher = Blowfish.new(key, Blowfish.MODE_CBC, bytes(vetor_inicializacao)) \n",
    "texto_decifrado = decifrar(texto_cifrado, cipher)\n",
    "print(texto_decifrado)\n",
    "print(\"O vetor de inicialização deve ser o mesmo que o utilizado para a cifragem, caso contrario ele irá interferir no primeiro bloco, decifrando incorretamente.\")"
   ]
  }
 ],
 "metadata": {
  "kernelspec": {
   "display_name": "Python 3",
   "language": "python",
   "name": "python3"
  },
  "language_info": {
   "codemirror_mode": {
    "name": "ipython",
    "version": 3
   },
   "file_extension": ".py",
   "mimetype": "text/x-python",
   "name": "python",
   "nbconvert_exporter": "python",
   "pygments_lexer": "ipython3",
   "version": "3.7.4"
  }
 },
 "nbformat": 4,
 "nbformat_minor": 2
}
