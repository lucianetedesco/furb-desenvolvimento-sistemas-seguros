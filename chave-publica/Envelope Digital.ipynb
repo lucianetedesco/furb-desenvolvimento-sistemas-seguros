{
 "cells": [
  {
   "cell_type": "markdown",
   "metadata": {},
   "source": [
    "# Envelope digital\n",
    "\n",
    "#### Alunos: Gabriel Schneider e Luciane Tedesco "
   ]
  },
  {
   "cell_type": "markdown",
   "metadata": {},
   "source": [
    "#### Questão 1\n",
    "\n",
    "- Crie um programa que gere um par de chaves privada e pública relacionadas. \n",
    "- Exiba o valor do módulo e dos expoentes de cada chave gerada.\n",
    "- Salve cada uma das chaves num arquivo separado, pois as chaves precisarão ser recuperadas nas questões seguintes."
   ]
  },
  {
   "cell_type": "code",
   "execution_count": 1,
   "metadata": {},
   "outputs": [
    {
     "name": "stdout",
     "output_type": "stream",
     "text": [
      "Expoente da private key: \n",
      "344929980224495985277788984669117484754298934385872293881835302363110070600600271662851720236870844505094600985246272790007048247136061329319003741909078075848580628410069166551814145706543493071507989924553935636380800991370619863508001275737415834789376275610499170475862675822311976254673986875611406197006272045400140995465428185139095606756107232779307613595435793841034267005301242955658634389845684493981673478500240029204637065467051222880413593309320103605818676674659824968784303579440266641224406591809382505809004607103445466986821796703184129368703313351582775099562984618622679133641336379417578668561\n",
      "\n",
      "Módulo da private key: 23038283889226037876158318445741090860047831883775587443914003159182459774947781682223396976840022741136163943260193049320374508974408839548886415366488194849053998165213036656636416374649266011646107147680831334867330652377206072466596638712719646028912034511625813296261975956098034185281748578960763509387554811583171884398838203576976917970984129077485602450307553698377623209277347288623340201425851118145306721705707722861190503177414250436943439865310020113970538364775736765656386097017747384557985388449512653627407281888136313250971759299343058623770581899195316381510944564334428267664086374764967028069679\n",
      "\n",
      "Expoente da public key: 65537\n",
      "Módulo da public key: 23038283889226037876158318445741090860047831883775587443914003159182459774947781682223396976840022741136163943260193049320374508974408839548886415366488194849053998165213036656636416374649266011646107147680831334867330652377206072466596638712719646028912034511625813296261975956098034185281748578960763509387554811583171884398838203576976917970984129077485602450307553698377623209277347288623340201425851118145306721705707722861190503177414250436943439865310020113970538364775736765656386097017747384557985388449512653627407281888136313250971759299343058623770581899195316381510944564334428267664086374764967028069679\n"
     ]
    }
   ],
   "source": [
    "from Crypto.PublicKey import RSA\n",
    "\n",
    "# par de chaves:\n",
    "key = RSA.generate(2048)\n",
    "private_key = key.export_key()\n",
    "public_key = key.publickey().export_key()\n",
    "\n",
    "# módulos e expoentes\n",
    "print(\"Expoente da private key: \")\n",
    "print(key.d)\n",
    "print()\n",
    "print(\"Módulo da private key: \" + str(key.n))\n",
    "\n",
    "print()\n",
    "print(\"Expoente da public key: \" + str(key.publickey().e))\n",
    "print(\"Módulo da public key: \" + str(key.publickey().n))\n",
    "\n",
    "# salvando arquivos\n",
    "f = open('public.pem', 'wb')\n",
    "f.write(key.publickey().exportKey('PEM'))\n",
    "f.close()\n",
    "\n",
    "f = open('private.pem', 'wb')\n",
    "f.write(key.exportKey('PEM'))\n",
    "f.close()"
   ]
  },
  {
   "cell_type": "markdown",
   "metadata": {},
   "source": [
    "#### Questão 2\n",
    "\n",
    "- Crie um programa que criptografe um arquivo submetido pelo usuário utilizando o algoritmo AES.\n",
    "- Criptografe a chave simétrica (do algoritmo AES) utilizando a chave pública gerada na questão 1.\n",
    "- Num documento do Word, coloque o texto simples, bem como o texto cifrado pelo algoritmo RSA."
   ]
  },
  {
   "cell_type": "code",
   "execution_count": 2,
   "metadata": {},
   "outputs": [
    {
     "name": "stdout",
     "output_type": "stream",
     "text": [
      "Texto: b'TEXTO A SER CRIPTOGRAFADO'\n",
      "Texto cifrado: b'\\x04,\\xed\\xa9\\xcbm\\xaa\\x86\\x00PyXiZ\\xbeBF!q\\x9e\\xfd\"/\\xc9O'\n"
     ]
    }
   ],
   "source": [
    "from Crypto.Cipher import AES\n",
    "from Crypto.Random import get_random_bytes\n",
    "\n",
    "# reading data\n",
    "with open('text.txt', 'r') as file:\n",
    "    data = file.read().replace('\\n', '')\n",
    "    \n",
    "data = bytes(data, 'utf-8')\n",
    "# criptografando um texto simples\n",
    "aes_key = get_random_bytes(16)\n",
    "cipher = AES.new(aes_key, AES.MODE_EAX)\n",
    "nonce = cipher.nonce\n",
    "ciphertext, tag = cipher.encrypt_and_digest(data)\n",
    "\n",
    "# writing data\n",
    "with open(\"ciphertext.txt\",\"wb\") as file:\n",
    "    file.write(ciphertext)\n",
    "\n",
    "print(\"Texto: \" + str(data))\n",
    "print(\"Texto cifrado: \" + str(ciphertext))"
   ]
  },
  {
   "cell_type": "code",
   "execution_count": 3,
   "metadata": {},
   "outputs": [
    {
     "name": "stdout",
     "output_type": "stream",
     "text": [
      "Texto simples: b'\\x12\\x98^\\xe3=\\x03\\xb2E\\x0f\\xe8\\xf4\\x17\\xa7\\xc0\\xb3\\x1f'\n",
      "\n",
      "Texto cifrado: b'B\\xf1\\x14:\\xfa\\xad\\x7f\\x04\\xaf\\xf3z\\xf0V~\\xde\\xab\\x05FS\\x17\\x8d/\\xea\\x0f\\x02\\x0c!\\x16\\x0e\\x97;\\x1e\\'\\x8e\\x8f=0<\\xf1\\xd5\\xc70\\xbe\\xbf`p\\x08\\x13\\x02\\xce\\xe9\\x1a\\xf4\\xc4\\xec\\xa6\\xc52\\xe9\\xf9\\xb3$\\x86\\x9cv\\x1e\\x13\\x99\\xd6(\\xb3(\\x05\\x07\\x1a\\xcf\\xb2\\x0b\\x8f\\xf3\\x0b\\xbf\\xd3\\xf1\\xfb;\\x1f\\x19\\xb4\\xda\\x95_|F\\x95\\xa3\\xe2.E\\xda\\x81k\\xb0\\x8e\\xd5\\x13vKw\\xc4\\'\\x88\\x08:\\xca\\xb4\\x91\\xca=/_v\\x0c\\x9b\\xbf\\xd7\\xe2D^\\xac\\xbc\\x05\\x01\\x07\\xb4\\x82\\xa2K2\\xa8\\xf5\\x9e\\xefr`\\xafP\\xf0l\\xb2r\\xf7B\\x8e\\x91\\xb1\\xba\\xdc\\x10\\xa7\\xb3\\x0f\\xebS\\xe7\\x1bp(D\\xad(\\x0c\\x0c\\x02\\xf5Z\\x96\\xd2\\xa48i|\"\\x0e\\x0c\\xa8\\xcfE\\xde}W\\xf2W\\xa7\\x04HwL\\xc5s\\xe9\\xe6\\xa0\\x8c_\\xe8\\x92z\\xa2\\xe6\\t\\xc7t\\x92\\x8d\\xfc\\x99Wi>\\xf7\\xbe\\xd9\\x16\\xa0o\\xe2\\xad\\xf2\\xb4\\xca\\xe2\\xae\\xf6\\x1c\\xc7q\\xa2D2\\xe4\\xdd\\\\\\x05\\xfb\\x85*\\xdfS0fJ\\x82\\xcc\\x85r'\n"
     ]
    }
   ],
   "source": [
    "from Crypto.Cipher import PKCS1_OAEP\n",
    "\n",
    "# criptografando a chave simétrica\n",
    "recipient_key = RSA.import_key(open(\"public.pem\").read())\n",
    "cipher_rsa = PKCS1_OAEP.new(recipient_key)\n",
    "\n",
    "encrypted_aes_key = cipher_rsa.encrypt(aes_key)\n",
    "\n",
    "print(\"Texto simples: \" + str(aes_key) + \"\\n\")\n",
    "print(\"Texto cifrado: \" + str(encrypted_aes_key))"
   ]
  },
  {
   "cell_type": "markdown",
   "metadata": {},
   "source": [
    "#### Questão 3\n",
    "\n",
    "- Crie um programa que decriptografe a chave de um algoritmo AES, utilizando a chave assimétrica privada gerada na questão 1.\n",
    "- Decriptografe o arquivo utilizando a chave obtida."
   ]
  },
  {
   "cell_type": "code",
   "execution_count": 4,
   "metadata": {},
   "outputs": [
    {
     "name": "stdout",
     "output_type": "stream",
     "text": [
      "b'\\x12\\x98^\\xe3=\\x03\\xb2E\\x0f\\xe8\\xf4\\x17\\xa7\\xc0\\xb3\\x1f'\n"
     ]
    }
   ],
   "source": [
    "from Crypto.PublicKey import RSA\n",
    "\n",
    "f = open('public.pem', 'rb')\n",
    "f1 = open('private.pem', 'rb')\n",
    "public_key = RSA.importKey(f.read())\n",
    "private_key = RSA.importKey(f1.read())\n",
    "\n",
    "# Decrypt the aes key with the private RSA key\n",
    "cipher_rsa = PKCS1_OAEP.new(private_key)\n",
    "aes_key = cipher_rsa.decrypt(encrypted_aes_key)\n",
    "\n",
    "print(aes_key) "
   ]
  },
  {
   "cell_type": "code",
   "execution_count": 5,
   "metadata": {},
   "outputs": [
    {
     "name": "stdout",
     "output_type": "stream",
     "text": [
      "TEXTO A SER CRIPTOGRAFADO\n"
     ]
    }
   ],
   "source": [
    "# reading ciphered text\n",
    "with open('ciphertext.txt', 'rb') as file:\n",
    "    ciphertext = file.read()\n",
    "\n",
    "# Decrypt the simpletext\n",
    "cipher_aes = AES.new(aes_key, AES.MODE_EAX, nonce)\n",
    "data = cipher_aes.decrypt_and_verify(ciphertext, tag)\n",
    "\n",
    "print(data.decode(\"utf-8\"))"
   ]
  }
 ],
 "metadata": {
  "kernelspec": {
   "display_name": "Python 3",
   "language": "python",
   "name": "python3"
  },
  "language_info": {
   "codemirror_mode": {
    "name": "ipython",
    "version": 3
   },
   "file_extension": ".py",
   "mimetype": "text/x-python",
   "name": "python",
   "nbconvert_exporter": "python",
   "pygments_lexer": "ipython3",
   "version": "3.7.4"
  }
 },
 "nbformat": 4,
 "nbformat_minor": 2
}
