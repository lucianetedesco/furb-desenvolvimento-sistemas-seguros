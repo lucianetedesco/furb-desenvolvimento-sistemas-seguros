{
 "cells": [
  {
   "cell_type": "markdown",
   "metadata": {},
   "source": [
    "# Certificado Digital\n",
    "\n",
    "#### Alunos: Gabriel Schneider e Luciane Tedesco "
   ]
  },
  {
   "cell_type": "markdown",
   "metadata": {},
   "source": [
    "#### Questão 1\n",
    "\n",
    "Crie um programa que abra a keystore e exiba as seguintes propriedades dos certificados importados:\n",
    "\n",
    "- Quem é o proprietário do certificado ?\n",
    "- Quem é o emissor do certificado?\n",
    "- Identifique se o certificado é auto-assinado ou não."
   ]
  },
  {
   "cell_type": "markdown",
   "metadata": {},
   "source": [
    "%path C:\\Program Files (x86)\\Java\\jdk1.8.0_161\\bin\n",
    "\n",
    "%keytool -genkey -v -keystore my-release-key.keystore -alias alias_name -keyalg RSA -keysize 2048 -validity 10000"
   ]
  },
  {
   "cell_type": "code",
   "execution_count": 25,
   "metadata": {},
   "outputs": [
    {
     "name": "stdout",
     "output_type": "stream",
     "text": [
      "Unlocked in trial mode.\n",
      "ChilkatLog:\r\n",
      "  UnlockBundle:\r\n",
      "    DllDate: Oct 28 2019\r\n",
      "    ChilkatVersion: 9.5.0.80\r\n",
      "    UnlockPrefix: Anything for 30-day trial\r\n",
      "    Architecture: Little Endian; 64-bit\r\n",
      "    Language: Windows Python 3.*\r\n",
      "    VerboseLogging: 0\r\n",
      "    component: Global\r\n",
      "    Component successfully unlocked using trial key\r\n",
      "    Success.\r\n",
      "  --UnlockBundle\r\n",
      "--ChilkatLog\r\n",
      "\n"
     ]
    }
   ],
   "source": [
    "import sys\n",
    "import chilkat\n",
    "\n",
    "# The Chilkat API can be unlocked for a fully-functional 30-day trial by passing any\n",
    "# string to the UnlockBundle method.  A program can unlock once at the start. Once unlocked,\n",
    "# all subsequently instantiated objects are created in the unlocked state. \n",
    "# \n",
    "# After licensing Chilkat, replace the \"Anything for 30-day trial\" with the purchased unlock code.\n",
    "# To verify the purchased unlock code was recognized, examine the contents of the LastErrorText\n",
    "# property after unlocking.  For example:\n",
    "glob = chilkat.CkGlobal()\n",
    "success = glob.UnlockBundle(\"Anything for 30-day trial\")\n",
    "if (success != True):\n",
    "    print(glob.lastErrorText())\n",
    "    sys.exit()\n",
    "\n",
    "status = glob.get_UnlockStatus()\n",
    "if (status == 2):\n",
    "    print(\"Unlocked using purchased unlock code.\")\n",
    "else:\n",
    "    print(\"Unlocked in trial mode.\")\n",
    "\n",
    "# The LastErrorText can be examined in the success case to see if it was unlocked in\n",
    "# trial more, or with a purchased unlock code.\n",
    "print(glob.lastErrorText())"
   ]
  },
  {
   "cell_type": "code",
   "execution_count": 30,
   "metadata": {},
   "outputs": [
    {
     "name": "stdout",
     "output_type": "stream",
     "text": [
      "ChilkatLog:\r\n",
      "  LoadFile:\r\n",
      "    DllDate: Oct 28 2019\r\n",
      "    ChilkatVersion: 9.5.0.80\r\n",
      "    UnlockPrefix: Anything for 30-day trial\r\n",
      "    Architecture: Little Endian; 64-bit\r\n",
      "    Language: Windows Python 3.*\r\n",
      "    VerboseLogging: 0\r\n",
      "    path: keyStore.jks\r\n",
      "    loadJksBinary:\r\n",
      "      magicNumber: 0xfeedfeed\r\n",
      "      JksVersion: 2\r\n",
      "      numEntries: 4\r\n",
      "      alias: *.furb.br (icpedu)\r\n",
      "      alias: gilvan justino\r\n",
      "      alias: www.angeloni.com.br (go daddy secure certificate authority - g2)\r\n",
      "      alias: www.guiadoestudante.abril.com.br (let's encrypt authority x3)\r\n",
      "      keyed digest verification failed.\r\n",
      "      keyedDigestVerified: 0\r\n",
      "    --loadJksBinary\r\n",
      "    Failed.\r\n",
      "  --LoadFile\r\n",
      "--ChilkatLog\r\n",
      "\n",
      "Trusted Certs:\n",
      "*.furb.br (icpedu): C=BR, ST=Santa Catarina, L=Blumenau, O=Fundacao Universidade Regional de Blumenau, CN=*.furb.br\n",
      "gilvan justino: C=BR, ST=SC, L=Blumenau, OU=FURB, CN=Gilvan Justino\n",
      "www.angeloni.com.br (go daddy secure certificate authority - g2): OID.1.3.6.1.4.1.311.60.2.1.3=BR, BusinessCategory=Private Organization, SERIALNUMBER=83.646.984/0006-14, C=BR, ST=Santa Catarina, L=Criciuma, O=A. Angeloni & Cia. Ltda, CN=www.angeloni.com.br\n",
      "www.guiadoestudante.abril.com.br (let's encrypt authority x3): CN=www.guiadoestudante.abril.com.br\n",
      "Private Keys:\n"
     ]
    }
   ],
   "source": [
    "import sys\n",
    "import chilkat\n",
    "\n",
    "jks = chilkat.CkJavaKeyStore()\n",
    "success = jks.LoadFile(\"112233\",\"keyStore.jks\")\n",
    "if (success != True):\n",
    "    print(jks.lastErrorText())\n",
    "    #sys.exit()\n",
    "    \n",
    "#  Find out how many of each type of entry:\n",
    "numTrustedCerts = jks.get_NumTrustedCerts()\n",
    "numPrivateKeys = jks.get_NumPrivateKeys()\n",
    "\n",
    "#  For each trusted certificate, access it by getting\n",
    "#  it as a cert object.  Also get the alias associated with the certificate.\n",
    "print(\"Trusted Certs:\")\n",
    "i = 0\n",
    "pks = []\n",
    "while i < numTrustedCerts :\n",
    "    # cert is a CkCert\n",
    "    cert = jks.GetTrustedCert(i)\n",
    "    print(jks.getTrustedCertAlias(i) + \": \" + cert.subjectDN())\n",
    "    pks.append(cert.ExportPublicKey())\n",
    "    i = i + 1\n",
    "\n",
    "print(\"Private Keys:\")\n",
    "i = 0\n",
    "while i < numPrivateKeys :\n",
    "    # privKey is a CkPrivateKey\n",
    "    privKey = jks.GetPrivateKey(\"112233\",i)\n",
    "    print(jks.getPrivateKeyAlias(i))\n",
    "    # certChain is a CkCertChain\n",
    "    certChain = jks.GetCertChain(i)\n",
    "\n",
    "    #  The 1st certificate in the chain is the one associated with the private key.\n",
    "    # cert is a CkCert\n",
    "    cert = certChain.GetCert(0)\n",
    "    print(cert.subjectDN())\n",
    "\n",
    "    i = i + 1"
   ]
  },
  {
   "cell_type": "markdown",
   "metadata": {},
   "source": [
    "#### Questão 2\n",
    "\n",
    "- Cifre a imagem com o algoritmo AES utilizando a chave constituída de 16 bytes com caractere “A”. Gere a saída com valor “questao1.aes”.\n",
    "\n",
    "- Utilize a chave pública do certificado importado para cifrar a chave do algoritmo simétrico. Armazene a chave num arquivo binário chamado “key.aes”."
   ]
  },
  {
   "cell_type": "markdown",
   "metadata": {},
   "source": [
    "Cifrando a imagem:"
   ]
  },
  {
   "cell_type": "code",
   "execution_count": 31,
   "metadata": {},
   "outputs": [],
   "source": [
    "import io\n",
    "from PIL import Image\n",
    "\n",
    "def image_to_byte_array(image:Image):\n",
    "    imgByteArr = io.BytesIO()\n",
    "    image.save(imgByteArr, format=image.format)\n",
    "    imgByteArr = imgByteArr.getvalue()\n",
    "    return imgByteArr\n",
    "\n",
    "# lendo os dados\n",
    "jpgfile = Image.open(\"imagem/imagemparacifrar.jpg\")\n",
    "data = image_to_byte_array(jpgfile)"
   ]
  },
  {
   "cell_type": "code",
   "execution_count": 32,
   "metadata": {},
   "outputs": [],
   "source": [
    "from Crypto.Cipher import AES\n",
    "from Crypto.Random import get_random_bytes\n",
    "\n",
    "# criptografando os dados\n",
    "aes_key = b'AAAAAAAAAAAAAAAA'\n",
    "cipher = AES.new(aes_key, AES.MODE_EAX)\n",
    "nonce = cipher.nonce\n",
    "cipherdata, tag = cipher.encrypt_and_digest(data)"
   ]
  },
  {
   "cell_type": "code",
   "execution_count": 33,
   "metadata": {},
   "outputs": [],
   "source": [
    "# escrevendo os dados\n",
    "with open(\"questao1.aes\",\"wb\") as file:\n",
    "    file.write(cipherdata)"
   ]
  },
  {
   "cell_type": "markdown",
   "metadata": {},
   "source": [
    "Cifrando a chave do algoritmo simétrico:"
   ]
  },
  {
   "cell_type": "code",
   "execution_count": 34,
   "metadata": {},
   "outputs": [
    {
     "data": {
      "text/plain": [
       "True"
      ]
     },
     "execution_count": 34,
     "metadata": {},
     "output_type": "execute_result"
    }
   ],
   "source": [
    "# é possivel utilizar os outros certificados \n",
    "pks[0].SaveOpenSslPemFile(\"publicKey.pem\")"
   ]
  },
  {
   "cell_type": "code",
   "execution_count": 35,
   "metadata": {},
   "outputs": [
    {
     "name": "stdout",
     "output_type": "stream",
     "text": [
      "Aes public key: b'AAAAAAAAAAAAAAAA'\n",
      "\n",
      "Aes public key encrypted: b'\\x1e\\x95\\xe3F\\x1aLy\\x93#\\xac&[\\xab\\xfc\\x92\\xa7=\\xf2\\xaa\\xe3\\x99\\xba\\xf8\\xdaC\\x7f\\x0f-\\xcd\\xf44\\x97\\x8c\\xdf\\xff\\x9aHsKRD6]Hc\\xf7=\\x81\\xc6\\x92R4\\xaaA\\xf3DB\\x83H\\xfcO\\xe4\\x91\\xcd9.k/\\xbf\\xfejugAX}\\xbc\\x9a\\xa1G\\x82\\xe1\\xbe\\x07\\x96\\xcf\\xa8:(\\\\\\x06lHo\\xd1&\\x80\\xfe\\xa6\\xe6\\xf8l\\n\\x11\\x03\\x83+9\\xfe\\xc0FA\\x03\\xe8\\x84\\xe3\\xacs\\x81\\x04\\xd1+\\x0e\\xd15\\x96+\\rm\\xeb\\xdf<%w2\\x01\\x91W\\xc9:\\xb5K\\xfd`\\xddU\\xd9V\\x82g\\x00\\xc8ah\\xe3(\\xdf\\x87\\x1c\\xb0H\\x15\\x9d\\x87h\\xd8f\\x18\\xa8\\xd3\\xb3\\xa8\\x07\\xae6]g\\xae\\xdd\\xfc\\x82\\xf7\\xfd\\x13<+\\xc2\\x94\\x9eW\\x02\\x807\\x98\\xfc\\xe9gL\\xfc\\xcf=b\\x96\\xaeJ=\\xfcs\\x8e\\x08\\\\\\x1b\\x96\\x1a`~\\xb1\\xf2\\xafE?\\xdc\\x85\\xf0\\x99\\xab\\x93&9n]\\x1a\\xc4\\x85m\\x9d\\xf6\\x8d?\\xf91\\x12\\xdac\\xb0\\xb8N-\\xac=\\xf0\\xb91/\\xa7\\x15\\xa8/\\xad_\\xc2\\x98\\xe7\\x02)$\\xff\\xef\\x16L\\xe9\\xed\\x86s\\xf6\\x92T\\xc5\\xbb\\xd0\\xbe3\\x8dI\\xe3\\xbc\\t\\xe7\\x0e\\xe7\\x1a\\xf6Ds\\x16zE\\xae\\x0e#\\xe4r\\xc7\\xb1\\xbc2\\'\\xfep[:\\xad>n\\x13\\xde\\x01\\xde\\xdf\\x9f=K\\x8cqof\\xcc\\xc2Rj\\x9az$\\xcd-\\xec\\xb0\\xae\\xac\\xb6c;\\x07\\x8a\\x14}\\xfak\\xdcrs\\xcf\\x90\\x05\\x0c0\\xd0\\xc5\\xea\\xef\\xd6\\xb9\\xdc\\xad\\xf4\\x18\\xd1\\xd9\\xd0[\\x82\\xf8\\xb7\\xc1!{\\xcb#Sl\\x08=&\\xa5\\xc2\\xca\\x87\\x8a\\x91\\xf5\\xf4p\\x8e\\xec\\xca\\x94\\x1e\\xc8\\xb8~A\\x00;\\x89\\xfd\\x83\\xe1Z\\x8bgO\\x06%\\r\\xf1\\xf3\\x84hL\\x8b\\x7f\\x89Z\\xe6,\\x06\\x0f\\xa9u\\x0c\\xf9\"\\x8e\\xc6\\x1f_0\\xee\\xba\\x96~/\\x02\\xa0\\x06c\\xb2\\x81\\xf1$\\xf8Ws9Q\\x92\\xa5yER\\x01\\xf2\\xda\\x01\\x98y\\xdc\\x11g\\xcb\\x12\\xe5.\\xbd$|\\xda;\\xd7!i\\xbc\\xfav<\\x93%\\x07\\xcb\\xb1\\x85 \\xdf\\xc3\\xb6\\x04F\\xde\\xd1d`\\x8d\\xb4OW\\x0fD\\xe2\\x08B\\\\\\xe4'\n"
     ]
    }
   ],
   "source": [
    "from Crypto.PublicKey import RSA\n",
    "from Crypto.Cipher import PKCS1_OAEP\n",
    "\n",
    "# criptografando a chave simétrica\n",
    "recipient_key = RSA.import_key(open(\"publicKey.pem\").read())\n",
    "cipher_rsa = PKCS1_OAEP.new(recipient_key)\n",
    "\n",
    "encrypted_aes_key = cipher_rsa.encrypt(aes_key)\n",
    "\n",
    "print(\"Aes public key: \" + str(aes_key) + \"\\n\")\n",
    "print(\"Aes public key encrypted: \" + str(encrypted_aes_key))"
   ]
  },
  {
   "cell_type": "code",
   "execution_count": 36,
   "metadata": {},
   "outputs": [],
   "source": [
    "# escrevendo os dados\n",
    "with open(\"key.aes\",\"wb\") as file:\n",
    "    file.write(encrypted_aes_key)"
   ]
  }
 ],
 "metadata": {
  "kernelspec": {
   "display_name": "Python 3",
   "language": "python",
   "name": "python3"
  },
  "language_info": {
   "codemirror_mode": {
    "name": "ipython",
    "version": 3
   },
   "file_extension": ".py",
   "mimetype": "text/x-python",
   "name": "python",
   "nbconvert_exporter": "python",
   "pygments_lexer": "ipython3",
   "version": "3.7.4"
  }
 },
 "nbformat": 4,
 "nbformat_minor": 2
}
