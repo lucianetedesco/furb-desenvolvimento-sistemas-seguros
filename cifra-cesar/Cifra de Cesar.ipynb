{
 "cells": [
  {
   "cell_type": "markdown",
   "metadata": {},
   "source": [
    "# Cifra de César\n",
    "\n",
    "#### Acadêmicos: Gabriel Schneider de Jesus e Luciane Tedesco"
   ]
  },
  {
   "cell_type": "markdown",
   "metadata": {},
   "source": [
    "Este trabalho visa demonstrar a implementação do algoritmo de cifragem denominado \"Cifra de César\""
   ]
  },
  {
   "cell_type": "markdown",
   "metadata": {},
   "source": [
    "#### Entrada de texto"
   ]
  },
  {
   "cell_type": "code",
   "execution_count": 3,
   "metadata": {},
   "outputs": [
    {
     "name": "stdout",
     "output_type": "stream",
     "text": [
      "Digite o texto à ser criptografado: Gabriel - Luciane: 2019\n",
      "Texto: Gabriel - Luciane: 2019\n"
     ]
    }
   ],
   "source": [
    "import re\n",
    "from helpers import *\n",
    "\n",
    "texto = input(\"Digite o texto à ser criptografado: \")\n",
    "print(\"Texto: \" + texto)"
   ]
  },
  {
   "cell_type": "markdown",
   "metadata": {},
   "source": [
    "#### Criptografar o texto"
   ]
  },
  {
   "cell_type": "code",
   "execution_count": 4,
   "metadata": {},
   "outputs": [
    {
     "name": "stdout",
     "output_type": "stream",
     "text": [
      "Texto criptografado: Jdeulho - Oxfldqh: 2019\n"
     ]
    }
   ],
   "source": [
    "texto_criptografado = \"\".join([chr(ord(c)+3) if re.match(\"[a-w]|[A-W]\", c) is not None \n",
    "                               else escolher_subst_enc(c) for c in texto])\n",
    "\n",
    "print(\"Texto criptografado: \" + texto_criptografado)"
   ]
  },
  {
   "cell_type": "markdown",
   "metadata": {},
   "source": [
    "#### Decriptografar o texto"
   ]
  },
  {
   "cell_type": "code",
   "execution_count": 5,
   "metadata": {},
   "outputs": [
    {
     "name": "stdout",
     "output_type": "stream",
     "text": [
      "Texto decriptografado: Gabriel - Luciane: 2019\n"
     ]
    }
   ],
   "source": [
    "texto_decriptografado = \"\".join([chr(ord(c)-3) if re.match(\"[d-z]|[D-Z]\", c) is not None\n",
    "                                               else escolher_subst_dec(c) for c in texto_criptografado])\n",
    "\n",
    "print(\"Texto decriptografado: \" + texto_decriptografado)"
   ]
  }
 ],
 "metadata": {
  "kernelspec": {
   "display_name": "Python 3",
   "language": "python",
   "name": "python3"
  },
  "language_info": {
   "codemirror_mode": {
    "name": "ipython",
    "version": 3
   },
   "file_extension": ".py",
   "mimetype": "text/x-python",
   "name": "python",
   "nbconvert_exporter": "python",
   "pygments_lexer": "ipython3",
   "version": "3.7.4"
  }
 },
 "nbformat": 4,
 "nbformat_minor": 2
}
