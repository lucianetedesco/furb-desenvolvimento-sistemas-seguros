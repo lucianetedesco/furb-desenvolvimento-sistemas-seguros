{
 "cells": [
  {
   "cell_type": "markdown",
   "metadata": {},
   "source": [
    "# Lista de Exercícios 03"
   ]
  },
  {
   "cell_type": "markdown",
   "metadata": {},
   "source": [
    "###### Acadêmicos: Gabriel Schneider de Jesus e Luciane Tedesco"
   ]
  },
  {
   "cell_type": "markdown",
   "metadata": {},
   "source": [
    "Este trabalho visa demonstrar uma aplicação com problemas de 'OS Injection', para isto foi utilizado como exemplo um programa que reproduz um arquivo de mídia digital, a partir do reprodutor padrão instalado no sistema operacional."
   ]
  },
  {
   "cell_type": "markdown",
   "metadata": {},
   "source": [
    "## Questão 1\n",
    "Demostração da vunerabilidade \"Injeção de comandos do sistema operacional\"."
   ]
  },
  {
   "cell_type": "markdown",
   "metadata": {},
   "source": [
    "#### Aplicando OS Injection"
   ]
  },
  {
   "cell_type": "code",
   "execution_count": 1,
   "metadata": {},
   "outputs": [
    {
     "name": "stdout",
     "output_type": "stream",
     "text": [
      "Informe o diretório da música: C:\\DSS-TESTE\\musica.mp3\n"
     ]
    },
    {
     "data": {
      "text/plain": [
       "0"
      ]
     },
     "execution_count": 1,
     "metadata": {},
     "output_type": "execute_result"
    }
   ],
   "source": [
    "# Comando correto: C:\\DSS-TESTE\\musica.mp3\n",
    "# Comando com OS Injection: C:\\DSS-TESTE\\musica.mp3 & cd C:\\ & dir \n",
    "\n",
    "from os import system\n",
    "music_path = input(\"Informe o diretório da música: \")\n",
    "system(\"cd C:\\Program Files\\VideoLAN\\VLC & vlc.exe \" + music_path)"
   ]
  },
  {
   "cell_type": "markdown",
   "metadata": {},
   "source": [
    "```cmd\n",
    "  Pasta de C:\\\n",
    "\n",
    "08/08/2018  10:40    <DIR>          cuda\n",
    "23/08/2019  21:17    <DIR>          DSS-TESTE\n",
    "03/05/2019  16:12    <DIR>          Go\n",
    "18/03/2019  15:38    <DIR>          home\n",
    "13/06/2019  08:08    <DIR>          Intel\n",
    "23/02/2018  13:17    <DIR>          MacroDB\n",
    "22/08/2019  08:56    <DIR>          Microsoft\n",
    "23/04/2018  01:19    <DIR>          MinGW\n",
    "08/05/2019  21:25    <DIR>          MyGames\n",
    "11/03/2018  10:20    <DIR>          Nexon\n",
    "09/05/2019  17:42    <DIR>          Octave\n",
    "11/09/2018  16:14    <DIR>          opencv_3.0\n",
    "11/04/2018  20:38    <DIR>          PerfLogs\n",
    "21/08/2019  19:50    <DIR>          Program Files\n",
    "22/08/2019  08:56    <DIR>          Program Files (x86)\n",
    "23/02/2018  03:31    <DIR>          SWSetup\n",
    "01/07/2019  22:41    <DIR>          temp\n",
    "06/06/2019  17:44    <DIR>          Users\n",
    "22/08/2019  08:45    <DIR>          Windows\n",
    "07/04/2019  23:32    <DIR>          Wondershare Video Converter Ultimate\n",
    "               0 arquivo(s)              0 bytes\n",
    "              20 pasta(s)   1.392.420.147.200 bytes disponíveis\n",
    "``` "
   ]
  },
  {
   "cell_type": "markdown",
   "metadata": {},
   "source": [
    "A implementação de uma aplicação desta maneira traz inúmeros problemas, pois o usuário pode controlar o sistema operacional, usufruindo ou alterando informações não permitidas para este usuário.\n",
    "\n",
    "O exemplo acima, demonstra a listagem de todos os arquivos contidos no diretório 'C' do local aplicação.   "
   ]
  },
  {
   "cell_type": "markdown",
   "metadata": {},
   "source": [
    "## Questão 2\n",
    "Implementação da validação dos dados de entrada através de uma Lista branca para evitar o problema de OS Injection"
   ]
  },
  {
   "cell_type": "code",
   "execution_count": 4,
   "metadata": {},
   "outputs": [
    {
     "name": "stdout",
     "output_type": "stream",
     "text": [
      "Informe o diretório da música: C:\\DSS-TESTE\\musica.mp3 & cd C:\\ & dir \n",
      "Erro:  Caractere '&' não permitido.\n"
     ]
    }
   ],
   "source": [
    "# Comando correto: C:\\DSS-TESTE\\musica.mp3\n",
    "# Comando com OS Injection: C:\\DSS-TESTE\\musica.mp3 & cd C:\\ & dir \n",
    "\n",
    "from os import system\n",
    "\n",
    "try:\n",
    "    possible_characters = [' ', '/', '\\\\', ':', '-', '.', \n",
    "                           '1', '2', '3', '4', '5', '6', '7', '8', '9',\n",
    "                           'a', 'b', 'c', 'd', 'e', 'f', 'g', 'h', 'i', 'j', 'k', 'l', 'm', 'n', 'o', 'p', 'q', 'r', 's', 't', 'u', 'v', 'x', 'z',\n",
    "                           'á', 'ã', 'à', 'â', 'í', 'ì', 'î', 'ú', 'ù', 'û', 'é', 'è', 'ê', 'ó', 'ò', 'õ', 'ô']\n",
    "\n",
    "    music_path = input(\"Informe o diretório da música: \")\n",
    "    for letter in music_path.lower():\n",
    "        if letter not in possible_characters:\n",
    "            raise Exception(\"Caractere \\'\" + letter + \"\\' não permitido.\")\n",
    "    \n",
    "    system(\"cd C:\\Program Files\\VideoLAN\\VLC & vlc.exe \" + music_path)\n",
    "\n",
    "except (Exception) as error:\n",
    "    print (\"Erro: \", error)"
   ]
  },
  {
   "cell_type": "markdown",
   "metadata": {},
   "source": [
    "Para corrigir a vulnerabilidade de entradas inadequadas de dados, utilizamos uma lista branca.\n",
    "\n",
    "Nesta situação, são validadas as entradas com a utilização de uma lista que contém todos os caracteres permitidos.\n",
    "\n",
    "Com isto, o usuário não conseguirá utilizar comandos do sistema operacional.\n"
   ]
  },
  {
   "cell_type": "markdown",
   "metadata": {},
   "source": [
    "## Questão 3\n",
    "Utilização de uma API para evitar a vunerabilidade exemplificada anteriormente"
   ]
  },
  {
   "cell_type": "code",
   "execution_count": 6,
   "metadata": {},
   "outputs": [
    {
     "name": "stdout",
     "output_type": "stream",
     "text": [
      "Informe o diretório da música: C:\\DSS-TESTE\\musica.mp3 & cd C:\\ & dir \n"
     ]
    },
    {
     "data": {
      "text/plain": [
       "True"
      ]
     },
     "execution_count": 6,
     "metadata": {},
     "output_type": "execute_result"
    }
   ],
   "source": [
    "# Comando correto: C:\\DSS-TESTE\\musica.mp3\n",
    "# Comando com OS Injection: C:\\DSS-TESTE\\musica.mp3 & cd C:\\ & dir \n",
    "\n",
    "import webbrowser\n",
    "music_path = input(\"Informe o diretório da música: \")\n",
    "webbrowser.open(music_path)"
   ]
  },
  {
   "cell_type": "markdown",
   "metadata": {},
   "source": [
    "Para corrigir a vulnerabilidade foi utilizada a API webbrowser, que utiliza o reprodutor padrão do sistema operacional. \n",
    "\n",
    "Caso o usuário digite um comando cujo não seja o path da mídia digital, será aberto o internet explorer para ele procurar o conteúdo desejado."
   ]
  }
 ],
 "metadata": {
  "kernelspec": {
   "display_name": "Python 3",
   "language": "python",
   "name": "python3"
  },
  "language_info": {
   "codemirror_mode": {
    "name": "ipython",
    "version": 3
   },
   "file_extension": ".py",
   "mimetype": "text/x-python",
   "name": "python",
   "nbconvert_exporter": "python",
   "pygments_lexer": "ipython3",
   "version": "3.7.4"
  }
 },
 "nbformat": 4,
 "nbformat_minor": 2
}
