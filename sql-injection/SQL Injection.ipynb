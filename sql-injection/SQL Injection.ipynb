{
 "cells": [
  {
   "cell_type": "markdown",
   "metadata": {},
   "source": [
    "# Lista de Exercícios 02"
   ]
  },
  {
   "cell_type": "markdown",
   "metadata": {},
   "source": [
    "###### Acadêmicos: Gabriel Schneider de Jesus e Luciane Tedesco"
   ]
  },
  {
   "cell_type": "markdown",
   "metadata": {},
   "source": [
    "<img src=\"Images/sql-injection.png\" width = 950>"
   ]
  },
  {
   "cell_type": "markdown",
   "metadata": {},
   "source": [
    "## Questão 1\n",
    "Demostração da possibilidade do usuário injetar comandos SQL num acesso ao banco de dados que é realizado pela aplicação."
   ]
  },
  {
   "cell_type": "markdown",
   "metadata": {},
   "source": [
    "#### 1.1 Conectando ao banco de dados"
   ]
  },
  {
   "cell_type": "code",
   "execution_count": 1,
   "metadata": {},
   "outputs": [],
   "source": [
    "import psycopg2\n",
    "\n",
    "connection = psycopg2.connect(user = \"postgres\",\n",
    "                                password = \"4560\",\n",
    "                                host=\"localhost\",\n",
    "                                port = \"5432\",\n",
    "                                database = \"pg_db\")\n",
    "cursor = connection.cursor()"
   ]
  },
  {
   "cell_type": "markdown",
   "metadata": {},
   "source": [
    "#### 1.2 Criar e popular uma tabela"
   ]
  },
  {
   "cell_type": "markdown",
   "metadata": {},
   "source": [
    "Foi utilizada neste exemplo uma tabela nomeada professor, com os campos nome, titulação e departamento"
   ]
  },
  {
   "cell_type": "code",
   "execution_count": 2,
   "metadata": {},
   "outputs": [],
   "source": [
    "# Criando a tabela\n",
    "cursor.execute(\"\"\"CREATE TABLE professor (id_professor int, nm_professor varchar(50), \n",
    "                 ds_titulacao varchar(30), ds_departamento varchar(30), PRIMARY KEY(id_professor));\"\"\")"
   ]
  },
  {
   "cell_type": "code",
   "execution_count": 3,
   "metadata": {},
   "outputs": [],
   "source": [
    "# Populando a tabela\n",
    "cursor.execute(\"INSERT INTO professor (id_professor, nm_professor, ds_titulacao, ds_departamento) VALUES (1, 'Gilvan Justino', 'Mestrado', 'Sistemas e Computação');\")\n",
    "cursor.execute(\"INSERT INTO professor (id_professor, nm_professor, ds_titulacao, ds_departamento) VALUES (2, 'Aurélio Faustino Hoppe', 'Mestrado', 'Sistemas e Computação');\")\n",
    "cursor.execute(\"INSERT INTO professor (id_professor, nm_professor, ds_titulacao, ds_departamento) VALUES (3, 'Georges Cherry Rodrigues', 'Mestrado', 'Matemática');\")\n",
    "cursor.execute(\"INSERT INTO professor (id_professor, nm_professor, ds_titulacao, ds_departamento) VALUES (4, 'Luciana Pereira de Araújo Kohler', 'Mestrado', 'Sistemas e Computação');\")\n",
    "cursor.execute(\"INSERT INTO professor (id_professor, nm_professor, ds_titulacao, ds_departamento) VALUES (5, 'Everaldo Artur Grahl', 'Mestrado', 'Sistemas e Computação');\")\n",
    "cursor.execute(\"INSERT INTO professor (id_professor, nm_professor, ds_titulacao, ds_departamento) VALUES (6, 'Francisco Adell Péricas', 'Mestrado', 'Sistemas e Computação');\")\n",
    "cursor.execute(\"INSERT INTO professor (id_professor, nm_professor, ds_titulacao, ds_departamento) VALUES (7, 'Andreza Sartori', 'Doutorado', 'Sistemas e Computação');\")\n",
    "cursor.execute(\"INSERT INTO professor (id_professor, nm_professor, ds_titulacao, ds_departamento) VALUES (8, 'Dalton Solano dos Reis', 'Mestrado', 'Sistemas e Computação');\")\n",
    "cursor.execute(\"INSERT INTO professor (id_professor, nm_professor, ds_titulacao, ds_departamento) VALUES (9, 'Marcel Hugo', 'Mestrado', 'Sistemas e Computação');\")\n",
    "cursor.execute(\"INSERT INTO professor (id_professor, nm_professor, ds_titulacao, ds_departamento) VALUES (10, 'Joyce Martins', 'Mestrado', 'Sistemas e Computação');\")"
   ]
  },
  {
   "cell_type": "markdown",
   "metadata": {},
   "source": [
    "#### 1.3 Aplicando SQL Injection "
   ]
  },
  {
   "cell_type": "code",
   "execution_count": 4,
   "metadata": {},
   "outputs": [],
   "source": [
    "def show_records():\n",
    "    # exibe todos os registros\n",
    "    print('\\nRegistro(s): ', cursor.rowcount)\n",
    "    for row in cursor.fetchall():\n",
    "        print (row)"
   ]
  },
  {
   "cell_type": "code",
   "execution_count": 5,
   "metadata": {},
   "outputs": [
    {
     "name": "stdout",
     "output_type": "stream",
     "text": [
      "Digite o nome do professor: Gilvan Justino' or 1=1 --\n",
      "\n",
      "Registro(s):  10\n",
      "(1, 'Gilvan Justino', 'Mestrado', 'Sistemas e Computação')\n",
      "(2, 'Aurélio Faustino Hoppe', 'Mestrado', 'Sistemas e Computação')\n",
      "(3, 'Georges Cherry Rodrigues', 'Mestrado', 'Matemática')\n",
      "(4, 'Luciana Pereira de Araújo Kohler', 'Mestrado', 'Sistemas e Computação')\n",
      "(5, 'Everaldo Artur Grahl', 'Mestrado', 'Sistemas e Computação')\n",
      "(6, 'Francisco Adell Péricas', 'Mestrado', 'Sistemas e Computação')\n",
      "(7, 'Andreza Sartori', 'Doutorado', 'Sistemas e Computação')\n",
      "(8, 'Dalton Solano dos Reis', 'Mestrado', 'Sistemas e Computação')\n",
      "(9, 'Marcel Hugo', 'Mestrado', 'Sistemas e Computação')\n",
      "(10, 'Joyce Martins', 'Mestrado', 'Sistemas e Computação')\n"
     ]
    }
   ],
   "source": [
    "# Exemplo 01: 'name' que retorna todos os registros da tabela\n",
    "# entrada: Gilvan Justino' or 1=1 --\n",
    "name = input('Digite o nome do professor: ')\n",
    "cursor.execute(\"SELECT * FROM professor WHERE nm_professor = '%s';\" % name)\n",
    "show_records()"
   ]
  },
  {
   "cell_type": "code",
   "execution_count": 6,
   "metadata": {},
   "outputs": [
    {
     "name": "stdout",
     "output_type": "stream",
     "text": [
      "Digite o nome do professor: Gilvan Justino' --; DELETE FROM professor;\n",
      "\n",
      "Registro(s):  1\n",
      "(1, 'Gilvan Justino', 'Mestrado', 'Sistemas e Computação')\n"
     ]
    }
   ],
   "source": [
    "# Exemplo 02: 'name' que deleta registros da tabela\n",
    "# entrada: Gilvan Justino' --; DELETE FROM professor;\n",
    "name = input('Digite o nome do professor: ')\n",
    "cursor.execute(\"SELECT * FROM professor WHERE nm_professor = '%s';\" % name)\n",
    "show_records()"
   ]
  },
  {
   "cell_type": "markdown",
   "metadata": {},
   "source": [
    "#### 1.4 Finalizando a conexão"
   ]
  },
  {
   "cell_type": "code",
   "execution_count": 7,
   "metadata": {},
   "outputs": [],
   "source": [
    "if (connection):\n",
    "    cursor.close()\n",
    "    connection.close()"
   ]
  },
  {
   "cell_type": "markdown",
   "metadata": {},
   "source": [
    "A implementação de uma aplicação desta maneira traz inúmeros problemas, pois o usuário pode controlar o banco de dados, usufruindo ou alterando informações não permitidas para este usuário."
   ]
  },
  {
   "cell_type": "markdown",
   "metadata": {},
   "source": [
    "## Questão 2\n",
    "Implementação da validação dos dados de entrada através de uma Lista branca para evitar o problema de SQL Injection"
   ]
  },
  {
   "cell_type": "markdown",
   "metadata": {},
   "source": [
    "<img src=\"Images/whitelisted.png\" width = 950>"
   ]
  },
  {
   "cell_type": "markdown",
   "metadata": {},
   "source": [
    "#### 2.1 Conectando ao banco de dados"
   ]
  },
  {
   "cell_type": "code",
   "execution_count": 8,
   "metadata": {},
   "outputs": [],
   "source": [
    "import psycopg2\n",
    "\n",
    "connection = psycopg2.connect(user = \"postgres\",\n",
    "                                password = \"4560\",\n",
    "                                host=\"localhost\",\n",
    "                                port = \"5432\",\n",
    "                                database = \"pg_db\")\n",
    "cursor = connection.cursor()"
   ]
  },
  {
   "cell_type": "markdown",
   "metadata": {},
   "source": [
    "#### 2.2 Criar e popular uma tabela"
   ]
  },
  {
   "cell_type": "markdown",
   "metadata": {},
   "source": [
    "Foi utilizada neste exemplo uma tabela nomeada professor, com os campos nome, titulação e departamento"
   ]
  },
  {
   "cell_type": "code",
   "execution_count": 9,
   "metadata": {},
   "outputs": [],
   "source": [
    "# Criando a tabela\n",
    "cursor.execute(\"\"\"CREATE TABLE professor (id_professor int, nm_professor varchar(50), \n",
    "                 ds_titulacao varchar(30), ds_departamento varchar(30), PRIMARY KEY(id_professor));\"\"\")"
   ]
  },
  {
   "cell_type": "code",
   "execution_count": 10,
   "metadata": {},
   "outputs": [],
   "source": [
    "# Populando a tabela\n",
    "cursor.execute(\"INSERT INTO professor (id_professor, nm_professor, ds_titulacao, ds_departamento) VALUES (1, 'Gilvan Justino', 'Mestrado', 'Sistemas e Computação');\")\n",
    "cursor.execute(\"INSERT INTO professor (id_professor, nm_professor, ds_titulacao, ds_departamento) VALUES (2, 'Aurélio Faustino Hoppe', 'Mestrado', 'Sistemas e Computação');\")\n",
    "cursor.execute(\"INSERT INTO professor (id_professor, nm_professor, ds_titulacao, ds_departamento) VALUES (3, 'Georges Cherry Rodrigues', 'Mestrado', 'Matemática');\")\n",
    "cursor.execute(\"INSERT INTO professor (id_professor, nm_professor, ds_titulacao, ds_departamento) VALUES (4, 'Luciana Pereira de Araújo Kohler', 'Mestrado', 'Sistemas e Computação');\")\n",
    "cursor.execute(\"INSERT INTO professor (id_professor, nm_professor, ds_titulacao, ds_departamento) VALUES (5, 'Everaldo Artur Grahl', 'Mestrado', 'Sistemas e Computação');\")\n",
    "cursor.execute(\"INSERT INTO professor (id_professor, nm_professor, ds_titulacao, ds_departamento) VALUES (6, 'Francisco Adell Péricas', 'Mestrado', 'Sistemas e Computação');\")\n",
    "cursor.execute(\"INSERT INTO professor (id_professor, nm_professor, ds_titulacao, ds_departamento) VALUES (7, 'Andreza Sartori', 'Doutorado', 'Sistemas e Computação');\")\n",
    "cursor.execute(\"INSERT INTO professor (id_professor, nm_professor, ds_titulacao, ds_departamento) VALUES (8, 'Dalton Solano dos Reis', 'Mestrado', 'Sistemas e Computação');\")\n",
    "cursor.execute(\"INSERT INTO professor (id_professor, nm_professor, ds_titulacao, ds_departamento) VALUES (9, 'Marcel Hugo', 'Mestrado', 'Sistemas e Computação');\")\n",
    "cursor.execute(\"INSERT INTO professor (id_professor, nm_professor, ds_titulacao, ds_departamento) VALUES (10, 'Joyce Martins', 'Mestrado', 'Sistemas e Computação');\")"
   ]
  },
  {
   "cell_type": "markdown",
   "metadata": {},
   "source": [
    "#### 2.3 Tentativa de aplicar SQL Injection - Prevenção com lista branca"
   ]
  },
  {
   "cell_type": "markdown",
   "metadata": {},
   "source": [
    "Nesta sessão, é implementado uma lista branca e testado as entradas cujo tiveram problema de SQL Injection anteriormente."
   ]
  },
  {
   "cell_type": "code",
   "execution_count": 11,
   "metadata": {},
   "outputs": [],
   "source": [
    "# Implementação da lista branca\n",
    "possible_characters = [' ', 'a', 'b', 'c', 'd', 'e', 'f', 'g', 'h', 'i', 'j', 'k', 'l', 'm', 'n', 'o', 'p', 'q', \n",
    "                       'r', 's', 't', 'u', 'v', 'x', 'z','á', 'ã', 'à', 'â', 'í', 'ì', 'î', 'ú', 'ù', 'û', 'é', \n",
    "                       'è', 'ê', 'ó', 'ò', 'õ', 'ô']\n",
    "\n",
    "def validate_input(name): \n",
    "    for letter in name.lower():\n",
    "        if letter not in possible_characters:\n",
    "            raise Exception(\"Caractere \\'\" + letter + \"\\' não permitido.\")\n",
    "\n",
    "def show_records():\n",
    "    # exibe todos os registros\n",
    "    print('\\nRegistro(s): ', cursor.rowcount)\n",
    "    for row in cursor.fetchall():\n",
    "        print (row)"
   ]
  },
  {
   "cell_type": "code",
   "execution_count": 12,
   "metadata": {},
   "outputs": [
    {
     "name": "stdout",
     "output_type": "stream",
     "text": [
      "Digite o nome do professor: Gilvan Justino' or 1=1 -- \n",
      "Ocorreu um erro:  Caractere ''' não permitido.\n"
     ]
    }
   ],
   "source": [
    "# Exemplo 1, utilizado anteriormente: Gilvan Justino' or 1=1 -- \n",
    "try:\n",
    "    name = input('Digite o nome do professor: ')\n",
    "    validate_input(name)\n",
    "    cursor.execute(\"SELECT * FROM professor WHERE nm_professor = '%s';\" % name)\n",
    "    show_records()\n",
    "    \n",
    "except (Exception) as error:\n",
    "    print (\"Ocorreu um erro: \", error)"
   ]
  },
  {
   "cell_type": "code",
   "execution_count": 13,
   "metadata": {},
   "outputs": [
    {
     "name": "stdout",
     "output_type": "stream",
     "text": [
      "Digite o nome do professor: Gilvan Justino' --; DELETE FROM professor;\n",
      "Ocorreu um erro:  Caractere ''' não permitido.\n"
     ]
    }
   ],
   "source": [
    "# Exemplo 2, utilizado anteriormente: Gilvan Justino' --; DELETE FROM professor;\n",
    "try:\n",
    "    name = input('Digite o nome do professor: ')\n",
    "    validate_input(name)\n",
    "    cursor.execute(\"SELECT * FROM professor WHERE nm_professor = '%s';\" % name)\n",
    "    show_records()\n",
    "    \n",
    "except (Exception) as error:\n",
    "    print (\"Ocorreu um erro: \", error)"
   ]
  },
  {
   "cell_type": "markdown",
   "metadata": {},
   "source": [
    "#### 2.4 Finalizando a conexão"
   ]
  },
  {
   "cell_type": "code",
   "execution_count": 14,
   "metadata": {},
   "outputs": [],
   "source": [
    "if (connection):\n",
    "    cursor.close()\n",
    "    connection.close()"
   ]
  },
  {
   "cell_type": "markdown",
   "metadata": {},
   "source": [
    "Para corrigir a vulnerabilidade de entradas inadequadas de dados, utilizamos uma lista branca.\n",
    "\n",
    "Nesta situação, são validadas as entradas com a utilização de uma lista que contém todos os caracteres permitidos.\n",
    "\n",
    "Com isto, o usuário não conseguirá alterar o comando sql.\n"
   ]
  },
  {
   "cell_type": "markdown",
   "metadata": {},
   "source": [
    "## Questão 3\n",
    "Implementação da validação de dados de entrada através de queries parametrizáveis."
   ]
  },
  {
   "cell_type": "markdown",
   "metadata": {},
   "source": [
    "<img src=\"Images/queries.jpg\">"
   ]
  },
  {
   "cell_type": "markdown",
   "metadata": {},
   "source": [
    "#### 3.1 Conectando ao banco de dados"
   ]
  },
  {
   "cell_type": "code",
   "execution_count": 15,
   "metadata": {},
   "outputs": [],
   "source": [
    "import psycopg2\n",
    "\n",
    "connection = psycopg2.connect(user = \"postgres\",\n",
    "                                password = \"4560\",\n",
    "                                host=\"localhost\",\n",
    "                                port = \"5432\",\n",
    "                                database = \"pg_db\")\n",
    "cursor = connection.cursor()"
   ]
  },
  {
   "cell_type": "markdown",
   "metadata": {},
   "source": [
    "#### 3.2 Criar e popular uma tabela"
   ]
  },
  {
   "cell_type": "markdown",
   "metadata": {},
   "source": [
    "Foi utilizada neste exemplo uma tabela nomeada professor, com os campos nome, titulação e departamento"
   ]
  },
  {
   "cell_type": "code",
   "execution_count": 16,
   "metadata": {},
   "outputs": [],
   "source": [
    "# Criando a tabela\n",
    "cursor.execute(\"\"\"CREATE TABLE professor (id_professor int, nm_professor varchar(50), \n",
    "                 ds_titulacao varchar(30), ds_departamento varchar(30), PRIMARY KEY(id_professor));\"\"\")"
   ]
  },
  {
   "cell_type": "code",
   "execution_count": 17,
   "metadata": {},
   "outputs": [],
   "source": [
    "# Populando a tabela\n",
    "cursor.execute(\"INSERT INTO professor (id_professor, nm_professor, ds_titulacao, ds_departamento) VALUES (1, 'Gilvan Justino', 'Mestrado', 'Sistemas e Computação');\")\n",
    "cursor.execute(\"INSERT INTO professor (id_professor, nm_professor, ds_titulacao, ds_departamento) VALUES (2, 'Aurélio Faustino Hoppe', 'Mestrado', 'Sistemas e Computação');\")\n",
    "cursor.execute(\"INSERT INTO professor (id_professor, nm_professor, ds_titulacao, ds_departamento) VALUES (3, 'Georges Cherry Rodrigues', 'Mestrado', 'Matemática');\")\n",
    "cursor.execute(\"INSERT INTO professor (id_professor, nm_professor, ds_titulacao, ds_departamento) VALUES (4, 'Luciana Pereira de Araújo Kohler', 'Mestrado', 'Sistemas e Computação');\")\n",
    "cursor.execute(\"INSERT INTO professor (id_professor, nm_professor, ds_titulacao, ds_departamento) VALUES (5, 'Everaldo Artur Grahl', 'Mestrado', 'Sistemas e Computação');\")\n",
    "cursor.execute(\"INSERT INTO professor (id_professor, nm_professor, ds_titulacao, ds_departamento) VALUES (6, 'Francisco Adell Péricas', 'Mestrado', 'Sistemas e Computação');\")\n",
    "cursor.execute(\"INSERT INTO professor (id_professor, nm_professor, ds_titulacao, ds_departamento) VALUES (7, 'Andreza Sartori', 'Doutorado', 'Sistemas e Computação');\")\n",
    "cursor.execute(\"INSERT INTO professor (id_professor, nm_professor, ds_titulacao, ds_departamento) VALUES (8, 'Dalton Solano dos Reis', 'Mestrado', 'Sistemas e Computação');\")\n",
    "cursor.execute(\"INSERT INTO professor (id_professor, nm_professor, ds_titulacao, ds_departamento) VALUES (9, 'Marcel Hugo', 'Mestrado', 'Sistemas e Computação');\")\n",
    "cursor.execute(\"INSERT INTO professor (id_professor, nm_professor, ds_titulacao, ds_departamento) VALUES (10, 'Joyce Martins', 'Mestrado', 'Sistemas e Computação');\")"
   ]
  },
  {
   "cell_type": "markdown",
   "metadata": {},
   "source": [
    "#### 3.3 Tentativa de aplicar SQL Injection - Prevenção com querries parametrizadas"
   ]
  },
  {
   "cell_type": "markdown",
   "metadata": {},
   "source": [
    "Nesta sessão, é implementado a função execute_select, para previnir o problema de SQL Injection demonstrado na sessão 1."
   ]
  },
  {
   "cell_type": "code",
   "execution_count": 18,
   "metadata": {},
   "outputs": [],
   "source": [
    "def execute_select(name):\n",
    "    # realiza o comando select a partir de uma querry parametrizada\n",
    "    querry = \"SELECT * FROM professor WHERE nm_professor = (%s);\"\n",
    "    data = (name,)\n",
    "    cursor.execute(querry, data)\n",
    "    \n",
    "def show_records():\n",
    "    # exibe todos os registros\n",
    "    print('\\nRegistro(s): ', cursor.rowcount)\n",
    "    for row in cursor.fetchall():\n",
    "        print (row)"
   ]
  },
  {
   "cell_type": "code",
   "execution_count": 19,
   "metadata": {},
   "outputs": [
    {
     "name": "stdout",
     "output_type": "stream",
     "text": [
      "Digite o nome do professor: Gilvan Justino' or 1=1 -- \n",
      "\n",
      "Registro(s):  0\n"
     ]
    }
   ],
   "source": [
    "# Exemplo 1: Gilvan Justino' or 1=1 -- \n",
    "name = input('Digite o nome do professor: ')\n",
    "execute_select(name)\n",
    "show_records()"
   ]
  },
  {
   "cell_type": "code",
   "execution_count": 20,
   "metadata": {},
   "outputs": [
    {
     "name": "stdout",
     "output_type": "stream",
     "text": [
      "Digite o nome do professor: Gilvan Justino' --; DELETE FROM professor;\n",
      "\n",
      "Registro(s):  0\n"
     ]
    }
   ],
   "source": [
    "# Exemplo 2: Gilvan Justino' --; DELETE FROM professor;\n",
    "name = input('Digite o nome do professor: ')\n",
    "execute_select(name)\n",
    "show_records()"
   ]
  },
  {
   "cell_type": "markdown",
   "metadata": {},
   "source": [
    "#### 3.4 Finalizando a conexão"
   ]
  },
  {
   "cell_type": "code",
   "execution_count": 21,
   "metadata": {},
   "outputs": [],
   "source": [
    "if (connection):\n",
    "    cursor.close()\n",
    "    connection.close()"
   ]
  },
  {
   "cell_type": "markdown",
   "metadata": {},
   "source": [
    "Para corrigir a vulnerabilidade de entradas inadequadas de dados, utilizamos o comando parametrizado. \n",
    "\n",
    "Nesta situação, primeiro é enviado o comando ao banco sem os valores de passados pelo usuário.\n",
    "\n",
    "Com isto, o usuário não conseguirá alterar o comando sql."
   ]
  }
 ],
 "metadata": {
  "kernelspec": {
   "display_name": "Python 3",
   "language": "python",
   "name": "python3"
  },
  "language_info": {
   "codemirror_mode": {
    "name": "ipython",
    "version": 3
   },
   "file_extension": ".py",
   "mimetype": "text/x-python",
   "name": "python",
   "nbconvert_exporter": "python",
   "pygments_lexer": "ipython3",
   "version": "3.7.4"
  }
 },
 "nbformat": 4,
 "nbformat_minor": 2
}
