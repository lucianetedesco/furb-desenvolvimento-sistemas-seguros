{
 "cells": [
  {
   "cell_type": "markdown",
   "metadata": {},
   "source": [
    "# Lista de Exercícios 04"
   ]
  },
  {
   "cell_type": "markdown",
   "metadata": {},
   "source": [
    "###### Acadêmicos: Gabriel Schneider de Jesus e Luciane Tedesco"
   ]
  },
  {
   "cell_type": "markdown",
   "metadata": {},
   "source": [
    "Este trabalho visa demonstrar uma aplicação de upload e download de arquivos com a vulnerabilidade \"Path Traversal\", na qual é possível obter acesso não autorizado de arquivos e diretórios."
   ]
  },
  {
   "cell_type": "markdown",
   "metadata": {},
   "source": [
    "## Questão 1\n",
    "Demostração da vunerabilidade \"Path Traversal\"."
   ]
  },
  {
   "cell_type": "markdown",
   "metadata": {},
   "source": [
    "#### Aplicando Path Traversal"
   ]
  },
  {
   "cell_type": "code",
   "execution_count": null,
   "metadata": {},
   "outputs": [],
   "source": [
    "import os\n",
    "\n",
    "from flask import Flask, redirect, request, send_file, abort, flash\n",
    "\n",
    "app = Flask(__name__)\n",
    "SERVER_FOLDER = 'server'\n",
    "\n",
    "\n",
    "@app.route(\"/\", methods=['GET'])\n",
    "def get_file():\n",
    "    file_name = request.args.get(\"file\")\n",
    "\n",
    "    if not file_name:\n",
    "        abort(404)\n",
    "    return send_file(os.path.join(SERVER_FOLDER, file_name))\n",
    "\n",
    "\n",
    "@app.route(\"/\", methods=['POST'])\n",
    "def send_file():\n",
    "    if 'file' not in request.files:\n",
    "        flash('No file part')\n",
    "        return redirect(request.url)\n",
    "    file = request.files['file']\n",
    "    if file.filename == '':\n",
    "        flash('No selected file')\n",
    "        return redirect(request.url)\n",
    "\n",
    "    dest_file = request.form['name']\n",
    "\n",
    "    file.save(os.path.join(SERVER_FOLDER, dest_file))\n",
    "    return {'success': True}, 200, {'ContentType': 'application/json'}\n",
    "\n",
    "\n",
    "if __name__ == '__main__':\n",
    "    app.run(debug=True)"
   ]
  },
  {
   "cell_type": "markdown",
   "metadata": {},
   "source": [
    "#### Exemplo de saída (upload) com vunerabilidade"
   ]
  },
  {
   "cell_type": "markdown",
   "metadata": {},
   "source": [
    "<img src=\"Images/ExemploUploadProblematico.png\" width = 950>"
   ]
  },
  {
   "cell_type": "markdown",
   "metadata": {},
   "source": [
    "No exemplo acima, podemos observar que é possível navegar na estrutura de pastas para acessar arquivos que não deveriam ser acessíveis a partir da aplicação.\n",
    "\n",
    "O método GET representa o download de arquivos, onde o usuário informa apenas o nome do arquivo presente no diretório \"server\". O arquivo é aberto para visualização.\n",
    "O método POST representa o upload de arquivos, onde o usuário deveria selecionar um arquivo do SO e informar um nome. O arquivo é salvo no diretório \"server\" com o nome escolhido pelo usuário.\n",
    "\n",
    "Porém o usuário pode causar a vulnerabilidade, informando no campo nome um diretório diferente de \"server\".\n",
    "\n",
    "Uso esperado do download: \n",
    "```rest\n",
    "localhost:5000/?file=file01\n",
    "``` \n",
    "Uso indevido do download: \n",
    "```rest\n",
    "localhost:5000/?file=/home/luciane/git/SistemasSeguros/Exercicio04/temp/file10\n",
    "```\n",
    "\n",
    "Uso esperado do upload: \n",
    "```rest\n",
    "localhost:5000/\n",
    "\n",
    "Body\n",
    "name:file02\n",
    "file: Teste\n",
    "``` \n",
    "Uso indevido do upload: \n",
    "```rest\n",
    "localhost:5000/\n",
    "\n",
    "Body\n",
    "name:/home/luciane/git/SistemasSeguros/Exercicio04/tmp/file10\n",
    "file: Teste\n",
    "```\n"
   ]
  },
  {
   "cell_type": "markdown",
   "metadata": {},
   "source": [
    "## Questão 2\n",
    "Utilização da técnica de atribuição de códigos aos arquivos para impedir que o usuário explore a vulnerabilidade \"Path Traversal\"."
   ]
  },
  {
   "cell_type": "code",
   "execution_count": null,
   "metadata": {},
   "outputs": [],
   "source": [
    "import os\n",
    "\n",
    "from flask import Flask, redirect, request, send_file, abort, flash\n",
    "\n",
    "app = Flask(__name__)\n",
    "SERVER_FOLDER = 'server'\n",
    "\n",
    "files = {\n",
    "    \"01\": \"file01\",\n",
    "    \"02\": \"file02\",\n",
    "}\n",
    "\n",
    "\n",
    "def get_dictionary(file_id):\n",
    "    return files[file_id]\n",
    "\n",
    "\n",
    "@app.route(\"/\", methods=['GET'])\n",
    "def get_file():\n",
    "    file_name = request.args.get(\"file\")\n",
    "\n",
    "    if not file_name:\n",
    "        abort(404)\n",
    "    return send_file(os.path.join(SERVER_FOLDER, get_dictionary(file_name)))\n",
    "\n",
    "\n",
    "@app.route(\"/\", methods=['POST'])\n",
    "def send_file():\n",
    "    if 'file' not in request.files:\n",
    "        flash('No file part')\n",
    "        return redirect(request.url)\n",
    "    file = request.files['file']\n",
    "    if file.filename == '':\n",
    "        flash('No selected file')\n",
    "        return redirect(request.url)\n",
    "\n",
    "    file_name = request.form['name']\n",
    "\n",
    "    file.save(os.path.join(SERVER_FOLDER, get_dictionary(file_name)))\n",
    "    return {'success': True}, 200, {'ContentType': 'application/json'}\n",
    "\n",
    "\n",
    "if __name__ == '__main__':\n",
    "    app.run(debug=True)\n"
   ]
  },
  {
   "cell_type": "markdown",
   "metadata": {},
   "source": [
    "Para corrigir a vulnerabilidade, definimos um identificador único para cada arquivo, com isso o usuário nao poderá mais chamar o arquivo diretamente.\n",
    "\n",
    "Uso do download: \n",
    "```rest\n",
    "localhost:5000/?file=01\n",
    "``` \n",
    "\n",
    "Uso do upload: \n",
    "```rest\n",
    "localhost:5000/\n",
    "\n",
    "Body\n",
    "name:01\n",
    "file: Teste\n",
    "``` "
   ]
  },
  {
   "cell_type": "markdown",
   "metadata": {},
   "source": [
    "#### Exemplo de saida (upload) sem vunerabilidade"
   ]
  },
  {
   "cell_type": "markdown",
   "metadata": {},
   "source": [
    "<img src=\"Images/UploadConcertado.png\" width = 950> "
   ]
  }
 ],
 "metadata": {
  "kernelspec": {
   "display_name": "Python 3",
   "language": "python",
   "name": "python3"
  },
  "language_info": {
   "codemirror_mode": {
    "name": "ipython",
    "version": 3
   },
   "file_extension": ".py",
   "mimetype": "text/x-python",
   "name": "python",
   "nbconvert_exporter": "python",
   "pygments_lexer": "ipython3",
   "version": "3.7.4"
  }
 },
 "nbformat": 4,
 "nbformat_minor": 2
}
